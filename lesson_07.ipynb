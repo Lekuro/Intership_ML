{
  "nbformat": 4,
  "nbformat_minor": 0,
  "metadata": {
    "colab": {
      "name": "lesson_07.ipynb",
      "provenance": [],
      "collapsed_sections": [],
      "authorship_tag": "ABX9TyN1PH39IvTPo2Iq+mVudzGo",
      "include_colab_link": true
    },
    "kernelspec": {
      "name": "python3",
      "display_name": "Python 3"
    },
    "language_info": {
      "name": "python"
    }
  },
  "cells": [
    {
      "cell_type": "markdown",
      "metadata": {
        "id": "view-in-github",
        "colab_type": "text"
      },
      "source": [
        "<a href=\"https://colab.research.google.com/github/Lekuro/Intership_ML/blob/lesson_07_numpy/lesson_07.ipynb\" target=\"_parent\"><img src=\"https://colab.research.google.com/assets/colab-badge.svg\" alt=\"Open In Colab\"/></a>"
      ]
    },
    {
      "cell_type": "code",
      "execution_count": 1050,
      "metadata": {
        "id": "D6f-BTLWN48P"
      },
      "outputs": [],
      "source": [
        "import numpy as np"
      ]
    },
    {
      "cell_type": "code",
      "source": [
        "arr_int=np.random.randint(-100,100, size=(4,5))\n",
        "arr_int"
      ],
      "metadata": {
        "colab": {
          "base_uri": "https://localhost:8080/"
        },
        "id": "Pprua3jERGOc",
        "outputId": "46f3b1c8-a43d-4491-dac2-76a90bf8feb7"
      },
      "execution_count": 1051,
      "outputs": [
        {
          "output_type": "execute_result",
          "data": {
            "text/plain": [
              "array([[-30, -82,  59, -93,  56],\n",
              "       [ 11,  12,  99, -71,   4],\n",
              "       [ 74, -88,  77, -39,  78],\n",
              "       [-36,  11,  77, -36, -11]])"
            ]
          },
          "metadata": {},
          "execution_count": 1051
        }
      ]
    },
    {
      "cell_type": "code",
      "source": [
        "arr_n=np.random.randn(4,5)"
      ],
      "metadata": {
        "id": "mLha2ePzzcmM"
      },
      "execution_count": 1052,
      "outputs": []
    },
    {
      "cell_type": "code",
      "source": [
        "arr=np.arange(-9,11)\n",
        "arr"
      ],
      "metadata": {
        "colab": {
          "base_uri": "https://localhost:8080/"
        },
        "id": "951lR2EEW2K8",
        "outputId": "067b3159-61e1-43c8-ee77-1db8b4b59b5a"
      },
      "execution_count": 1053,
      "outputs": [
        {
          "output_type": "execute_result",
          "data": {
            "text/plain": [
              "array([-9, -8, -7, -6, -5, -4, -3, -2, -1,  0,  1,  2,  3,  4,  5,  6,  7,\n",
              "        8,  9, 10])"
            ]
          },
          "metadata": {},
          "execution_count": 1053
        }
      ]
    },
    {
      "cell_type": "markdown",
      "source": [
        "# Новий розділ"
      ],
      "metadata": {
        "id": "pgD5Hop3uxIs"
      }
    },
    {
      "cell_type": "code",
      "source": [
        "arr45=arr.reshape(4,5)\n",
        "arr45"
      ],
      "metadata": {
        "colab": {
          "base_uri": "https://localhost:8080/"
        },
        "id": "KeFV42Z4XDUE",
        "outputId": "256e37ab-e323-4f65-fa2e-6e929069753c"
      },
      "execution_count": 1054,
      "outputs": [
        {
          "output_type": "execute_result",
          "data": {
            "text/plain": [
              "array([[-9, -8, -7, -6, -5],\n",
              "       [-4, -3, -2, -1,  0],\n",
              "       [ 1,  2,  3,  4,  5],\n",
              "       [ 6,  7,  8,  9, 10]])"
            ]
          },
          "metadata": {},
          "execution_count": 1054
        }
      ]
    },
    {
      "cell_type": "code",
      "source": [
        "arr45.shape"
      ],
      "metadata": {
        "colab": {
          "base_uri": "https://localhost:8080/"
        },
        "id": "Vqiy1My-YD4F",
        "outputId": "902c861a-99a1-43ac-819b-eec371b19baa"
      },
      "execution_count": 1055,
      "outputs": [
        {
          "output_type": "execute_result",
          "data": {
            "text/plain": [
              "(4, 5)"
            ]
          },
          "metadata": {},
          "execution_count": 1055
        }
      ]
    },
    {
      "cell_type": "code",
      "source": [
        "arr_copy=np.copy(arr45[:3,:4])\n",
        "arr_copy"
      ],
      "metadata": {
        "colab": {
          "base_uri": "https://localhost:8080/"
        },
        "id": "AkRREY4vR2fl",
        "outputId": "1c236b1f-b378-48f3-e93d-a2c3a0fb710c"
      },
      "execution_count": 1056,
      "outputs": [
        {
          "output_type": "execute_result",
          "data": {
            "text/plain": [
              "array([[-9, -8, -7, -6],\n",
              "       [-4, -3, -2, -1],\n",
              "       [ 1,  2,  3,  4]])"
            ]
          },
          "metadata": {},
          "execution_count": 1056
        }
      ]
    },
    {
      "cell_type": "code",
      "source": [
        "arr_copy[2:]=0\n",
        "arr_copy[:,3:]=0\n",
        "arr_copy"
      ],
      "metadata": {
        "colab": {
          "base_uri": "https://localhost:8080/"
        },
        "id": "cyTnYiiqZTit",
        "outputId": "4f908d11-d190-443a-d8da-5fd25e6ccc15"
      },
      "execution_count": 1057,
      "outputs": [
        {
          "output_type": "execute_result",
          "data": {
            "text/plain": [
              "array([[-9, -8, -7,  0],\n",
              "       [-4, -3, -2,  0],\n",
              "       [ 0,  0,  0,  0]])"
            ]
          },
          "metadata": {},
          "execution_count": 1057
        }
      ]
    },
    {
      "cell_type": "code",
      "source": [
        "arr_copy[:2,:3]"
      ],
      "metadata": {
        "colab": {
          "base_uri": "https://localhost:8080/"
        },
        "id": "6sDZdAhWxGd1",
        "outputId": "815df49f-d12e-48f8-fb18-bc2b344e2500"
      },
      "execution_count": 1058,
      "outputs": [
        {
          "output_type": "execute_result",
          "data": {
            "text/plain": [
              "array([[-9, -8, -7],\n",
              "       [-4, -3, -2]])"
            ]
          },
          "metadata": {},
          "execution_count": 1058
        }
      ]
    },
    {
      "cell_type": "code",
      "source": [
        "arr45"
      ],
      "metadata": {
        "colab": {
          "base_uri": "https://localhost:8080/"
        },
        "id": "Ps9zt_y3aSxt",
        "outputId": "2d223912-16c2-4516-d4a0-02b4f3a5d20a"
      },
      "execution_count": 1059,
      "outputs": [
        {
          "output_type": "execute_result",
          "data": {
            "text/plain": [
              "array([[-9, -8, -7, -6, -5],\n",
              "       [-4, -3, -2, -1,  0],\n",
              "       [ 1,  2,  3,  4,  5],\n",
              "       [ 6,  7,  8,  9, 10]])"
            ]
          },
          "metadata": {},
          "execution_count": 1059
        }
      ]
    },
    {
      "cell_type": "code",
      "source": [
        "arr451=arr45[..., np.newaxis]\n",
        "arr451"
      ],
      "metadata": {
        "colab": {
          "base_uri": "https://localhost:8080/"
        },
        "id": "lBUmyZmlGUjG",
        "outputId": "0ce876c2-cc64-44d1-f96b-6087548e2048"
      },
      "execution_count": 1060,
      "outputs": [
        {
          "output_type": "execute_result",
          "data": {
            "text/plain": [
              "array([[[-9],\n",
              "        [-8],\n",
              "        [-7],\n",
              "        [-6],\n",
              "        [-5]],\n",
              "\n",
              "       [[-4],\n",
              "        [-3],\n",
              "        [-2],\n",
              "        [-1],\n",
              "        [ 0]],\n",
              "\n",
              "       [[ 1],\n",
              "        [ 2],\n",
              "        [ 3],\n",
              "        [ 4],\n",
              "        [ 5]],\n",
              "\n",
              "       [[ 6],\n",
              "        [ 7],\n",
              "        [ 8],\n",
              "        [ 9],\n",
              "        [10]]])"
            ]
          },
          "metadata": {},
          "execution_count": 1060
        }
      ]
    },
    {
      "cell_type": "code",
      "source": [
        "arr451.shape"
      ],
      "metadata": {
        "colab": {
          "base_uri": "https://localhost:8080/"
        },
        "id": "JCyTLH0GbS71",
        "outputId": "8e477a83-d480-4fc6-8c84-49ea8a813191"
      },
      "execution_count": 1061,
      "outputs": [
        {
          "output_type": "execute_result",
          "data": {
            "text/plain": [
              "(4, 5, 1)"
            ]
          },
          "metadata": {},
          "execution_count": 1061
        }
      ]
    },
    {
      "cell_type": "code",
      "source": [
        "class UnaryMethods:\n",
        "  def __init__(self,arr2d,slice_list=[],copy_number=1):\n",
        "    slice_data=slice_list if slice_list else arr2d.shape\n",
        "    # self.arr2d=np.copy(arr2d[:slice_data[0],:slice_data[1]])\n",
        "    self.arr2d=arr2d[:slice_data[0],:slice_data[1]]\n",
        "    self.copy=copy_number\n",
        "    self.arr3d=None\n",
        "\n",
        "  def repeat(self):\n",
        "    if self.arr3d and self.arr3d.shape==self.copy:\n",
        "      return self.arr3d\n",
        "    # self.arr3d=self.arr2d[...,np.newaxis]\n",
        "    # self.arr3d= np.repeat(self.arr3d,self.copy, axis=2)\n",
        "    self.arr3d=self.arr2d[np.newaxis]\n",
        "    self.arr3d= np.repeat(self.arr3d,self.copy, axis=0)\n",
        "    return self.arr3d\n",
        "\n",
        "  def get_abs(self):\n",
        "    return np.abs(self.arr2d)\n",
        "\n",
        "  def get_sqrt(self):\n",
        "    return np.sqrt(self.arr2d)\n",
        "\n",
        "  def get_square(self):\n",
        "    return np.square(self.arr2d)\n",
        "\n",
        "  def get_exp(self):\n",
        "    return np.exp(self.arr2d)\n",
        "\n",
        "  def get_log(self):\n",
        "    return np.log(self.arr2d)\n",
        "\n",
        "  def get_log10(self):\n",
        "    return np.log10(self.arr2d)\n",
        "\n",
        "  def get_log2(self):\n",
        "    return np.log2(self.arr2d)\n",
        "\n",
        "  def get_log1p(self):\n",
        "    return np.log1p(self.arr2d)\n",
        "\n",
        "  def get_sign(self):\n",
        "    return np.sign(self.arr2d)\n",
        "\n",
        "  def get_ceil(self):\n",
        "    return np.ceil(self.arr2d)\n",
        "\n",
        "  def get_floor(self):\n",
        "    return np.floor(self.arr2d)\n",
        "\n",
        "  def get_rint(self):\n",
        "    return np.rint(self.arr2d)\n",
        "\n",
        "  def get_modf(self):\n",
        "    return np.modf(self.arr2d)\n",
        "\n",
        "  def get_isnan(self):\n",
        "    return np.isnan(self.arr2d)\n",
        "\n",
        "  def get_isfinite(self):\n",
        "    return np.isfinite(self.arr2d)\n",
        "\n",
        "  def get_isinf(self):\n",
        "    return np.isinf(self.arr2d)\n",
        "\n",
        "  def get_cos(self):\n",
        "    return np.cos(self.arr2d)\n",
        "\n",
        "  def get_cosh(self):\n",
        "    return np.cosh(self.arr2d)\n",
        "\n",
        "  def get_sin(self):\n",
        "    return np.sin(self.arr2d)\n",
        "\n",
        "  def get_sinh(self):\n",
        "    return np.sinh(self.arr2d)\n",
        "\n",
        "  def get_tan(self):\n",
        "    return np.tan(self.arr2d)\n",
        "\n",
        "  def get_tanh(self):\n",
        "    return np.tanh(self.arr2d)\n",
        "\n",
        "  def get_arccos(self):\n",
        "    return np.arccos(self.arr2d)\n",
        "\n",
        "  def get_arccosh(self):\n",
        "    return np.arccosh(self.arr2d)\n",
        "\n",
        "  def get_arcsin(self):\n",
        "    return np.arcsin(self.arr2d)\n",
        "\n",
        "  def get_arcsinh(self):\n",
        "    return np.arcsinh(self.arr2d)\n",
        "\n",
        "  def get_arctan(self):\n",
        "    return np.arctan(self.arr2d)\n",
        "\n",
        "  def get_arctanh(self):\n",
        "    return np.arctanh(self.arr2d)\n",
        "\n",
        "  def get_logical_not(self):\n",
        "    return np.logical_not(self.arr2d)"
      ],
      "metadata": {
        "id": "nacnnUxtRWIC"
      },
      "execution_count": 1062,
      "outputs": []
    },
    {
      "cell_type": "code",
      "source": [
        "um=UnaryMethods(arr_n,(3,4),2)\n",
        "um.arr2d"
      ],
      "metadata": {
        "colab": {
          "base_uri": "https://localhost:8080/"
        },
        "id": "a7Av2jQPhsLj",
        "outputId": "c6e04103-d23b-4ea1-b571-f013308d8ea8"
      },
      "execution_count": 1063,
      "outputs": [
        {
          "output_type": "execute_result",
          "data": {
            "text/plain": [
              "array([[ 0.56487299,  0.18783984,  0.81395215, -1.58892316],\n",
              "       [-0.71792716,  0.94701942,  0.93298239, -0.68061531],\n",
              "       [-1.336518  , -1.35308865, -0.67347778, -0.5863274 ]])"
            ]
          },
          "metadata": {},
          "execution_count": 1063
        }
      ]
    },
    {
      "cell_type": "code",
      "source": [
        "um.repeat()"
      ],
      "metadata": {
        "colab": {
          "base_uri": "https://localhost:8080/"
        },
        "id": "_q9gH4af8_gu",
        "outputId": "a3b9519a-8ec3-4d4f-ba59-21cb131a3f34"
      },
      "execution_count": 1064,
      "outputs": [
        {
          "output_type": "execute_result",
          "data": {
            "text/plain": [
              "array([[[ 0.56487299,  0.18783984,  0.81395215, -1.58892316],\n",
              "        [-0.71792716,  0.94701942,  0.93298239, -0.68061531],\n",
              "        [-1.336518  , -1.35308865, -0.67347778, -0.5863274 ]],\n",
              "\n",
              "       [[ 0.56487299,  0.18783984,  0.81395215, -1.58892316],\n",
              "        [-0.71792716,  0.94701942,  0.93298239, -0.68061531],\n",
              "        [-1.336518  , -1.35308865, -0.67347778, -0.5863274 ]]])"
            ]
          },
          "metadata": {},
          "execution_count": 1064
        }
      ]
    },
    {
      "cell_type": "code",
      "source": [
        "um.arr3d.shape"
      ],
      "metadata": {
        "colab": {
          "base_uri": "https://localhost:8080/"
        },
        "id": "NSpqKtpLcWeN",
        "outputId": "1972e207-71c4-4a5a-ea4f-be70bc0fd7f4"
      },
      "execution_count": 1065,
      "outputs": [
        {
          "output_type": "execute_result",
          "data": {
            "text/plain": [
              "(2, 3, 4)"
            ]
          },
          "metadata": {},
          "execution_count": 1065
        }
      ]
    },
    {
      "cell_type": "code",
      "source": [
        "um.get_abs()"
      ],
      "metadata": {
        "colab": {
          "base_uri": "https://localhost:8080/"
        },
        "id": "yQPZqNW_lvlG",
        "outputId": "48116115-085a-4e07-fa38-643bf9358ed3"
      },
      "execution_count": 1066,
      "outputs": [
        {
          "output_type": "execute_result",
          "data": {
            "text/plain": [
              "array([[0.56487299, 0.18783984, 0.81395215, 1.58892316],\n",
              "       [0.71792716, 0.94701942, 0.93298239, 0.68061531],\n",
              "       [1.336518  , 1.35308865, 0.67347778, 0.5863274 ]])"
            ]
          },
          "metadata": {},
          "execution_count": 1066
        }
      ]
    },
    {
      "cell_type": "code",
      "source": [
        "um.get_square()"
      ],
      "metadata": {
        "colab": {
          "base_uri": "https://localhost:8080/"
        },
        "id": "-t4tCuMatIu1",
        "outputId": "efe54a0a-8896-4f15-ce68-b9ec3a022f4a"
      },
      "execution_count": 1067,
      "outputs": [
        {
          "output_type": "execute_result",
          "data": {
            "text/plain": [
              "array([[0.3190815 , 0.0352838 , 0.66251811, 2.5246768 ],\n",
              "       [0.51541941, 0.89684578, 0.87045614, 0.46323721],\n",
              "       [1.78628035, 1.8308489 , 0.45357231, 0.34377982]])"
            ]
          },
          "metadata": {},
          "execution_count": 1067
        }
      ]
    },
    {
      "cell_type": "code",
      "source": [
        "um.get_sqrt()"
      ],
      "metadata": {
        "colab": {
          "base_uri": "https://localhost:8080/"
        },
        "id": "aTiCr7aantK7",
        "outputId": "6fa57f12-ab02-410c-e0d5-c701fb9c9729"
      },
      "execution_count": 1068,
      "outputs": [
        {
          "output_type": "stream",
          "name": "stderr",
          "text": [
            "/usr/local/lib/python3.7/dist-packages/ipykernel_launcher.py:22: RuntimeWarning: invalid value encountered in sqrt\n"
          ]
        },
        {
          "output_type": "execute_result",
          "data": {
            "text/plain": [
              "array([[0.75158033, 0.43340493, 0.90219297,        nan],\n",
              "       [       nan, 0.97314923, 0.96591014,        nan],\n",
              "       [       nan,        nan,        nan,        nan]])"
            ]
          },
          "metadata": {},
          "execution_count": 1068
        }
      ]
    },
    {
      "cell_type": "code",
      "source": [
        "um.get_exp()"
      ],
      "metadata": {
        "colab": {
          "base_uri": "https://localhost:8080/"
        },
        "id": "z332ntkLnerN",
        "outputId": "69f1c7ca-cdc3-44cd-8368-a0d7f540012b"
      },
      "execution_count": 1069,
      "outputs": [
        {
          "output_type": "execute_result",
          "data": {
            "text/plain": [
              "array([[1.75922434, 1.20664024, 2.25680964, 0.20414533],\n",
              "       [0.48776226, 2.57801422, 2.54207936, 0.50630536],\n",
              "       [0.26275901, 0.25844079, 0.50993206, 0.55636685]])"
            ]
          },
          "metadata": {},
          "execution_count": 1069
        }
      ]
    },
    {
      "cell_type": "code",
      "source": [
        "um.get_log()"
      ],
      "metadata": {
        "colab": {
          "base_uri": "https://localhost:8080/"
        },
        "id": "jDOvD4iDpGbc",
        "outputId": "63153d98-a3ba-40ec-d934-e1affbe27a09"
      },
      "execution_count": 1070,
      "outputs": [
        {
          "output_type": "stream",
          "name": "stderr",
          "text": [
            "/usr/local/lib/python3.7/dist-packages/ipykernel_launcher.py:31: RuntimeWarning: invalid value encountered in log\n"
          ]
        },
        {
          "output_type": "execute_result",
          "data": {
            "text/plain": [
              "array([[-0.57115436, -1.67216562, -0.2058537 ,         nan],\n",
              "       [        nan, -0.05443568, -0.06936895,         nan],\n",
              "       [        nan,         nan,         nan,         nan]])"
            ]
          },
          "metadata": {},
          "execution_count": 1070
        }
      ]
    },
    {
      "cell_type": "code",
      "source": [
        "um.get_log10()"
      ],
      "metadata": {
        "colab": {
          "base_uri": "https://localhost:8080/"
        },
        "id": "lDRnNPzmycxu",
        "outputId": "e5f63d5b-6b88-44e5-c1c1-b70b5720a23b"
      },
      "execution_count": 1071,
      "outputs": [
        {
          "output_type": "stream",
          "name": "stderr",
          "text": [
            "/usr/local/lib/python3.7/dist-packages/ipykernel_launcher.py:34: RuntimeWarning: invalid value encountered in log10\n"
          ]
        },
        {
          "output_type": "execute_result",
          "data": {
            "text/plain": [
              "array([[-0.24804919, -0.7262123 , -0.08940112,         nan],\n",
              "       [        nan, -0.02364112, -0.03012655,         nan],\n",
              "       [        nan,         nan,         nan,         nan]])"
            ]
          },
          "metadata": {},
          "execution_count": 1071
        }
      ]
    },
    {
      "cell_type": "code",
      "source": [
        "um.get_log2()"
      ],
      "metadata": {
        "colab": {
          "base_uri": "https://localhost:8080/"
        },
        "id": "LMVHOWrJ00iH",
        "outputId": "49a84361-ee82-4022-edc1-cf60dff25a95"
      },
      "execution_count": 1072,
      "outputs": [
        {
          "output_type": "stream",
          "name": "stderr",
          "text": [
            "/usr/local/lib/python3.7/dist-packages/ipykernel_launcher.py:37: RuntimeWarning: invalid value encountered in log2\n"
          ]
        },
        {
          "output_type": "execute_result",
          "data": {
            "text/plain": [
              "array([[-0.82400157, -2.41242505, -0.29698411,         nan],\n",
              "       [        nan, -0.07853408, -0.10007824,         nan],\n",
              "       [        nan,         nan,         nan,         nan]])"
            ]
          },
          "metadata": {},
          "execution_count": 1072
        }
      ]
    },
    {
      "cell_type": "code",
      "source": [
        "um.get_log1p()"
      ],
      "metadata": {
        "colab": {
          "base_uri": "https://localhost:8080/"
        },
        "id": "7G4ynH7P0_SE",
        "outputId": "71f76508-8c63-4701-d046-7a85b79623ab"
      },
      "execution_count": 1073,
      "outputs": [
        {
          "output_type": "stream",
          "name": "stderr",
          "text": [
            "/usr/local/lib/python3.7/dist-packages/ipykernel_launcher.py:40: RuntimeWarning: invalid value encountered in log1p\n"
          ]
        },
        {
          "output_type": "execute_result",
          "data": {
            "text/plain": [
              "array([[ 0.44780467,  0.17213639,  0.59550797,         nan],\n",
              "       [-1.26558995,  0.6662997 ,  0.65906409, -1.14135899],\n",
              "       [        nan,         nan, -1.11925726, -0.88268045]])"
            ]
          },
          "metadata": {},
          "execution_count": 1073
        }
      ]
    },
    {
      "cell_type": "code",
      "source": [
        "um.get_sign()"
      ],
      "metadata": {
        "colab": {
          "base_uri": "https://localhost:8080/"
        },
        "id": "L0RrqK4Z1C8z",
        "outputId": "9bf110eb-133b-4a18-9cc5-0f97843839f7"
      },
      "execution_count": 1074,
      "outputs": [
        {
          "output_type": "execute_result",
          "data": {
            "text/plain": [
              "array([[ 1.,  1.,  1., -1.],\n",
              "       [-1.,  1.,  1., -1.],\n",
              "       [-1., -1., -1., -1.]])"
            ]
          },
          "metadata": {},
          "execution_count": 1074
        }
      ]
    },
    {
      "cell_type": "code",
      "source": [
        "um.get_ceil()"
      ],
      "metadata": {
        "colab": {
          "base_uri": "https://localhost:8080/"
        },
        "id": "eKfaaRWk1Rfk",
        "outputId": "8e645f98-b2f2-4be1-c3cb-121d8d346dfb"
      },
      "execution_count": 1075,
      "outputs": [
        {
          "output_type": "execute_result",
          "data": {
            "text/plain": [
              "array([[ 1.,  1.,  1., -1.],\n",
              "       [-0.,  1.,  1., -0.],\n",
              "       [-1., -1., -0., -0.]])"
            ]
          },
          "metadata": {},
          "execution_count": 1075
        }
      ]
    },
    {
      "cell_type": "code",
      "source": [
        "um.get_floor()"
      ],
      "metadata": {
        "colab": {
          "base_uri": "https://localhost:8080/"
        },
        "id": "E0zwfrPl1UcU",
        "outputId": "7cfbf7d4-95f1-4a05-a9bd-5fe9d4b77cf5"
      },
      "execution_count": 1076,
      "outputs": [
        {
          "output_type": "execute_result",
          "data": {
            "text/plain": [
              "array([[ 0.,  0.,  0., -2.],\n",
              "       [-1.,  0.,  0., -1.],\n",
              "       [-2., -2., -1., -1.]])"
            ]
          },
          "metadata": {},
          "execution_count": 1076
        }
      ]
    },
    {
      "cell_type": "code",
      "source": [
        "um.get_rint()"
      ],
      "metadata": {
        "colab": {
          "base_uri": "https://localhost:8080/"
        },
        "id": "C_xB58A71Wwk",
        "outputId": "5384231e-5e9f-4bbf-c255-d30040c1a112"
      },
      "execution_count": 1077,
      "outputs": [
        {
          "output_type": "execute_result",
          "data": {
            "text/plain": [
              "array([[ 1.,  0.,  1., -2.],\n",
              "       [-1.,  1.,  1., -1.],\n",
              "       [-1., -1., -1., -1.]])"
            ]
          },
          "metadata": {},
          "execution_count": 1077
        }
      ]
    },
    {
      "cell_type": "code",
      "source": [
        "um.get_modf()"
      ],
      "metadata": {
        "colab": {
          "base_uri": "https://localhost:8080/"
        },
        "id": "tPHEyp4r2Ak8",
        "outputId": "1dc49b1f-71da-4278-82c6-1786d46c71dd"
      },
      "execution_count": 1078,
      "outputs": [
        {
          "output_type": "execute_result",
          "data": {
            "text/plain": [
              "(array([[ 0.56487299,  0.18783984,  0.81395215, -0.58892316],\n",
              "        [-0.71792716,  0.94701942,  0.93298239, -0.68061531],\n",
              "        [-0.336518  , -0.35308865, -0.67347778, -0.5863274 ]]),\n",
              " array([[ 0.,  0.,  0., -1.],\n",
              "        [-0.,  0.,  0., -0.],\n",
              "        [-1., -1., -0., -0.]]))"
            ]
          },
          "metadata": {},
          "execution_count": 1078
        }
      ]
    },
    {
      "cell_type": "code",
      "source": [
        "um.get_isnan()"
      ],
      "metadata": {
        "colab": {
          "base_uri": "https://localhost:8080/"
        },
        "id": "mn-dYWSM4BWN",
        "outputId": "ddd97f5f-e6de-44b6-fa95-1a37d40eae6f"
      },
      "execution_count": 1079,
      "outputs": [
        {
          "output_type": "execute_result",
          "data": {
            "text/plain": [
              "array([[False, False, False, False],\n",
              "       [False, False, False, False],\n",
              "       [False, False, False, False]])"
            ]
          },
          "metadata": {},
          "execution_count": 1079
        }
      ]
    },
    {
      "cell_type": "code",
      "source": [
        "um.get_isfinite()"
      ],
      "metadata": {
        "colab": {
          "base_uri": "https://localhost:8080/"
        },
        "id": "jDs5Hyi24F68",
        "outputId": "db8dcc67-399e-407d-c137-78e69f0d53f7"
      },
      "execution_count": 1080,
      "outputs": [
        {
          "output_type": "execute_result",
          "data": {
            "text/plain": [
              "array([[ True,  True,  True,  True],\n",
              "       [ True,  True,  True,  True],\n",
              "       [ True,  True,  True,  True]])"
            ]
          },
          "metadata": {},
          "execution_count": 1080
        }
      ]
    },
    {
      "cell_type": "code",
      "source": [
        "um.get_isinf()"
      ],
      "metadata": {
        "colab": {
          "base_uri": "https://localhost:8080/"
        },
        "id": "BOoG4KWS4Q1V",
        "outputId": "73add960-b4d3-4aa0-dce6-f960662ab27f"
      },
      "execution_count": 1081,
      "outputs": [
        {
          "output_type": "execute_result",
          "data": {
            "text/plain": [
              "array([[False, False, False, False],\n",
              "       [False, False, False, False],\n",
              "       [False, False, False, False]])"
            ]
          },
          "metadata": {},
          "execution_count": 1081
        }
      ]
    },
    {
      "cell_type": "code",
      "source": [
        "um.get_cos()"
      ],
      "metadata": {
        "colab": {
          "base_uri": "https://localhost:8080/"
        },
        "id": "v3ttzjZS4WTl",
        "outputId": "57cc9cc0-bad2-4bed-c859-5ad964fb48e0"
      },
      "execution_count": 1082,
      "outputs": [
        {
          "output_type": "execute_result",
          "data": {
            "text/plain": [
              "array([[ 0.84465659,  0.98240991,  0.68663056, -0.01812584],\n",
              "       [ 0.75317091,  0.58410495,  0.59544058,  0.77718567],\n",
              "       [ 0.23214109,  0.21599198,  0.78165728,  0.83297836]])"
            ]
          },
          "metadata": {},
          "execution_count": 1082
        }
      ]
    },
    {
      "cell_type": "code",
      "source": [
        "um.get_cosh()"
      ],
      "metadata": {
        "colab": {
          "base_uri": "https://localhost:8080/"
        },
        "id": "eRPKIt6b4bcj",
        "outputId": "4da8afbd-b799-4dcb-b277-80d06da5ced2"
      },
      "execution_count": 1083,
      "outputs": [
        {
          "output_type": "execute_result",
          "data": {
            "text/plain": [
              "array([[1.16382834, 1.01769384, 1.34995652, 2.55130826],\n",
              "       [1.26897069, 1.48295484, 1.46772906, 1.24069901],\n",
              "       [2.03426386, 2.0638995 , 1.23548881, 1.17687105]])"
            ]
          },
          "metadata": {},
          "execution_count": 1083
        }
      ]
    },
    {
      "cell_type": "code",
      "source": [
        "um.get_sin()"
      ],
      "metadata": {
        "colab": {
          "base_uri": "https://localhost:8080/"
        },
        "id": "jEw9D0I04gGM",
        "outputId": "d97550b4-c730-49f4-f25e-8303562253f0"
      },
      "execution_count": 1084,
      "outputs": [
        {
          "output_type": "execute_result",
          "data": {
            "text/plain": [
              "array([[ 0.53530854,  0.18673716,  0.72700651, -0.99983571],\n",
              "       [-0.65782488,  0.81167814,  0.80339935, -0.62927136],\n",
              "       [-0.97268212, -0.97639514, -0.62370818, -0.55330557]])"
            ]
          },
          "metadata": {},
          "execution_count": 1084
        }
      ]
    },
    {
      "cell_type": "code",
      "source": [
        "um.get_sinh()"
      ],
      "metadata": {
        "colab": {
          "base_uri": "https://localhost:8080/"
        },
        "id": "3JWKw9m-4jX0",
        "outputId": "5ab842bc-1d3a-48e0-b50f-8b7d07a0a6c2"
      },
      "execution_count": 1085,
      "outputs": [
        {
          "output_type": "execute_result",
          "data": {
            "text/plain": [
              "array([[ 0.595396  ,  0.1889464 ,  0.90685313, -2.34716294],\n",
              "       [-0.78120842,  1.09505938,  1.07435031, -0.73439365],\n",
              "       [-1.77150485, -1.8054587 , -0.72555674, -0.6205042 ]])"
            ]
          },
          "metadata": {},
          "execution_count": 1085
        }
      ]
    },
    {
      "cell_type": "code",
      "source": [
        "um.get_tan()"
      ],
      "metadata": {
        "colab": {
          "base_uri": "https://localhost:8080/"
        },
        "id": "Pmz1yRIJ4lQ3",
        "outputId": "be2df32c-fc74-42e8-b2c8-29708480c740"
      },
      "execution_count": 1086,
      "outputs": [
        {
          "output_type": "execute_result",
          "data": {
            "text/plain": [
              "array([[ 0.63375879,  0.1900807 ,  1.05880302, 55.16080398],\n",
              "       [-0.87340718,  1.3896101 ,  1.34925192, -0.80967957],\n",
              "       [-4.19004717, -4.52051579, -0.7979305 , -0.66424963]])"
            ]
          },
          "metadata": {},
          "execution_count": 1086
        }
      ]
    },
    {
      "cell_type": "code",
      "source": [
        "um.get_tanh()"
      ],
      "metadata": {
        "colab": {
          "base_uri": "https://localhost:8080/"
        },
        "id": "gG8kbFQS4n4t",
        "outputId": "bc54cbf3-afe5-4597-b432-aa1cc3be0fe0"
      },
      "execution_count": 1087,
      "outputs": [
        {
          "output_type": "execute_result",
          "data": {
            "text/plain": [
              "array([[ 0.51158404,  0.18566134,  0.67176469, -0.91998406],\n",
              "       [-0.6156237 ,  0.7384307 ,  0.73198136, -0.59191927],\n",
              "       [-0.87083337, -0.87478034, -0.5872629 , -0.5272491 ]])"
            ]
          },
          "metadata": {},
          "execution_count": 1087
        }
      ]
    },
    {
      "cell_type": "code",
      "source": [
        "um.get_arccos()"
      ],
      "metadata": {
        "colab": {
          "base_uri": "https://localhost:8080/"
        },
        "id": "ZY-k3pi14wQt",
        "outputId": "b24ace8c-b110-4ab4-edaf-c048801c2ae9"
      },
      "execution_count": 1088,
      "outputs": [
        {
          "output_type": "stream",
          "name": "stderr",
          "text": [
            "/usr/local/lib/python3.7/dist-packages/ipykernel_launcher.py:85: RuntimeWarning: invalid value encountered in arccos\n"
          ]
        },
        {
          "output_type": "execute_result",
          "data": {
            "text/plain": [
              "array([[0.97051699, 1.38183396, 0.61987315,        nan],\n",
              "       [2.37161634, 0.32697134, 0.3681843 , 2.31939849],\n",
              "       [       nan,        nan, 2.30969983, 2.19731403]])"
            ]
          },
          "metadata": {},
          "execution_count": 1088
        }
      ]
    },
    {
      "cell_type": "code",
      "source": [
        "um.get_arccosh()"
      ],
      "metadata": {
        "colab": {
          "base_uri": "https://localhost:8080/"
        },
        "id": "9G6oKIPA4yN0",
        "outputId": "12417f41-8f2b-4dfa-a6bd-c743ec6fd0eb"
      },
      "execution_count": 1089,
      "outputs": [
        {
          "output_type": "stream",
          "name": "stderr",
          "text": [
            "/usr/local/lib/python3.7/dist-packages/ipykernel_launcher.py:88: RuntimeWarning: invalid value encountered in arccosh\n"
          ]
        },
        {
          "output_type": "execute_result",
          "data": {
            "text/plain": [
              "array([[nan, nan, nan, nan],\n",
              "       [nan, nan, nan, nan],\n",
              "       [nan, nan, nan, nan]])"
            ]
          },
          "metadata": {},
          "execution_count": 1089
        }
      ]
    },
    {
      "cell_type": "code",
      "source": [
        "um.get_arcsin()"
      ],
      "metadata": {
        "colab": {
          "base_uri": "https://localhost:8080/"
        },
        "id": "IwqPIAJB40Is",
        "outputId": "7411a80d-1b8c-46c1-f929-8d266311b371"
      },
      "execution_count": 1090,
      "outputs": [
        {
          "output_type": "stream",
          "name": "stderr",
          "text": [
            "/usr/local/lib/python3.7/dist-packages/ipykernel_launcher.py:91: RuntimeWarning: invalid value encountered in arcsin\n"
          ]
        },
        {
          "output_type": "execute_result",
          "data": {
            "text/plain": [
              "array([[ 0.60027933,  0.18896237,  0.95092317,         nan],\n",
              "       [-0.80082002,  1.24382499,  1.20261202, -0.74860217],\n",
              "       [        nan,         nan, -0.7389035 , -0.62651771]])"
            ]
          },
          "metadata": {},
          "execution_count": 1090
        }
      ]
    },
    {
      "cell_type": "code",
      "source": [
        "um.get_arcsinh()"
      ],
      "metadata": {
        "colab": {
          "base_uri": "https://localhost:8080/"
        },
        "id": "EOEEGHpy4019",
        "outputId": "50973989-7c91-4adf-b4fb-839506dd4d87"
      },
      "execution_count": 1091,
      "outputs": [
        {
          "output_type": "execute_result",
          "data": {
            "text/plain": [
              "array([[ 0.53847137,  0.1867524 ,  0.74352602, -1.24309796],\n",
              "       [-0.66729122,  0.84341017,  0.83318239, -0.63671372],\n",
              "       [-1.10052163, -1.11040954, -0.63080339, -0.55706544]])"
            ]
          },
          "metadata": {},
          "execution_count": 1091
        }
      ]
    },
    {
      "cell_type": "code",
      "source": [
        "um.get_arctan()"
      ],
      "metadata": {
        "colab": {
          "base_uri": "https://localhost:8080/"
        },
        "id": "FYa7g1Wn42PE",
        "outputId": "318d86d7-8da9-4616-8ac5-33410c2fb89d"
      },
      "execution_count": 1092,
      "outputs": [
        {
          "output_type": "execute_result",
          "data": {
            "text/plain": [
              "array([[ 0.51419026,  0.18567622,  0.68319064, -1.00906998],\n",
              "       [-0.62265656,  0.75819376,  0.75074147, -0.59759729],\n",
              "       [-0.92843995, -0.93434021, -0.59270318, -0.53030545]])"
            ]
          },
          "metadata": {},
          "execution_count": 1092
        }
      ]
    },
    {
      "cell_type": "code",
      "source": [
        "um.get_arctanh()"
      ],
      "metadata": {
        "colab": {
          "base_uri": "https://localhost:8080/"
        },
        "id": "f8iSyDpI4398",
        "outputId": "48572c8b-3bc3-42bc-d8c0-cc07da46d892"
      },
      "execution_count": 1093,
      "outputs": [
        {
          "output_type": "stream",
          "name": "stderr",
          "text": [
            "/usr/local/lib/python3.7/dist-packages/ipykernel_launcher.py:100: RuntimeWarning: invalid value encountered in arctanh\n"
          ]
        },
        {
          "output_type": "execute_result",
          "data": {
            "text/plain": [
              "array([[ 0.63996099,  0.19009705,  1.13862968,         nan],\n",
              "       [-0.90335418,  1.80206477,  1.68093199, -0.83025949],\n",
              "       [        nan,         nan, -0.81708061, -0.67205099]])"
            ]
          },
          "metadata": {},
          "execution_count": 1093
        }
      ]
    },
    {
      "cell_type": "code",
      "source": [
        "um.get_logical_not()"
      ],
      "metadata": {
        "colab": {
          "base_uri": "https://localhost:8080/"
        },
        "id": "mfPnCPRv4_1E",
        "outputId": "799b8283-f470-4825-bfeb-f20ffcbae6df"
      },
      "execution_count": 1094,
      "outputs": [
        {
          "output_type": "execute_result",
          "data": {
            "text/plain": [
              "array([[False, False, False, False],\n",
              "       [False, False, False, False],\n",
              "       [False, False, False, False]])"
            ]
          },
          "metadata": {},
          "execution_count": 1094
        }
      ]
    },
    {
      "cell_type": "code",
      "source": [
        "um=UnaryMethods(arr45,copy_number=3)\n",
        "um.arr2d"
      ],
      "metadata": {
        "colab": {
          "base_uri": "https://localhost:8080/"
        },
        "id": "9o0nOc4XdriH",
        "outputId": "b251c74b-8f33-4c7b-cb5a-5a22f5924ab3"
      },
      "execution_count": 1095,
      "outputs": [
        {
          "output_type": "execute_result",
          "data": {
            "text/plain": [
              "array([[-9, -8, -7, -6, -5],\n",
              "       [-4, -3, -2, -1,  0],\n",
              "       [ 1,  2,  3,  4,  5],\n",
              "       [ 6,  7,  8,  9, 10]])"
            ]
          },
          "metadata": {},
          "execution_count": 1095
        }
      ]
    },
    {
      "cell_type": "code",
      "source": [
        "res=um.repeat()\n",
        "res"
      ],
      "metadata": {
        "colab": {
          "base_uri": "https://localhost:8080/"
        },
        "id": "FH1SM_pJeE88",
        "outputId": "19e1068d-115e-44a6-91d7-b1a9aa9e0c0c"
      },
      "execution_count": 1096,
      "outputs": [
        {
          "output_type": "execute_result",
          "data": {
            "text/plain": [
              "array([[[-9, -8, -7, -6, -5],\n",
              "        [-4, -3, -2, -1,  0],\n",
              "        [ 1,  2,  3,  4,  5],\n",
              "        [ 6,  7,  8,  9, 10]],\n",
              "\n",
              "       [[-9, -8, -7, -6, -5],\n",
              "        [-4, -3, -2, -1,  0],\n",
              "        [ 1,  2,  3,  4,  5],\n",
              "        [ 6,  7,  8,  9, 10]],\n",
              "\n",
              "       [[-9, -8, -7, -6, -5],\n",
              "        [-4, -3, -2, -1,  0],\n",
              "        [ 1,  2,  3,  4,  5],\n",
              "        [ 6,  7,  8,  9, 10]]])"
            ]
          },
          "metadata": {},
          "execution_count": 1096
        }
      ]
    },
    {
      "cell_type": "code",
      "source": [
        "res.shape"
      ],
      "metadata": {
        "colab": {
          "base_uri": "https://localhost:8080/"
        },
        "id": "5jIngNwTebE1",
        "outputId": "94ec121c-9391-4492-c1b5-5324959f4d55"
      },
      "execution_count": 1097,
      "outputs": [
        {
          "output_type": "execute_result",
          "data": {
            "text/plain": [
              "(3, 4, 5)"
            ]
          },
          "metadata": {},
          "execution_count": 1097
        }
      ]
    }
  ]
}