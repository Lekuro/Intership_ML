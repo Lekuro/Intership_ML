{
  "nbformat": 4,
  "nbformat_minor": 0,
  "metadata": {
    "colab": {
      "name": "lesson_07.ipynb",
      "provenance": [],
      "collapsed_sections": [],
      "authorship_tag": "ABX9TyNQPjGuCbYsQVHQ6bN3QFWE",
      "include_colab_link": true
    },
    "kernelspec": {
      "name": "python3",
      "display_name": "Python 3"
    },
    "language_info": {
      "name": "python"
    }
  },
  "cells": [
    {
      "cell_type": "markdown",
      "metadata": {
        "id": "view-in-github",
        "colab_type": "text"
      },
      "source": [
        "<a href=\"https://colab.research.google.com/github/Lekuro/Intership_ML/blob/lesson_07_numpy/lesson_07.ipynb\" target=\"_parent\"><img src=\"https://colab.research.google.com/assets/colab-badge.svg\" alt=\"Open In Colab\"/></a>"
      ]
    },
    {
      "cell_type": "code",
      "execution_count": 935,
      "metadata": {
        "id": "D6f-BTLWN48P"
      },
      "outputs": [],
      "source": [
        "import numpy as np"
      ]
    },
    {
      "cell_type": "code",
      "source": [
        "arr_int=np.random.randint(-100,100, size=(4,5))\n",
        "arr_int"
      ],
      "metadata": {
        "colab": {
          "base_uri": "https://localhost:8080/"
        },
        "id": "Pprua3jERGOc",
        "outputId": "1fc9f7fe-d6a7-45f7-d069-a2bfe3d875d8"
      },
      "execution_count": 936,
      "outputs": [
        {
          "output_type": "execute_result",
          "data": {
            "text/plain": [
              "array([[-35,  98, -43, -46,  69],\n",
              "       [-41, -97,  -4, -97, -17],\n",
              "       [ 10, -25, -32,  12, -85],\n",
              "       [ 50,  67,  29, -31, -35]])"
            ]
          },
          "metadata": {},
          "execution_count": 936
        }
      ]
    },
    {
      "cell_type": "code",
      "source": [
        "arr_n=np.random.randn(4,5)"
      ],
      "metadata": {
        "id": "mLha2ePzzcmM"
      },
      "execution_count": 937,
      "outputs": []
    },
    {
      "cell_type": "code",
      "source": [
        "arr=np.arange(-9,11)\n",
        "arr"
      ],
      "metadata": {
        "colab": {
          "base_uri": "https://localhost:8080/"
        },
        "id": "951lR2EEW2K8",
        "outputId": "804f168e-a574-4486-885b-e235ad43a56d"
      },
      "execution_count": 938,
      "outputs": [
        {
          "output_type": "execute_result",
          "data": {
            "text/plain": [
              "array([-9, -8, -7, -6, -5, -4, -3, -2, -1,  0,  1,  2,  3,  4,  5,  6,  7,\n",
              "        8,  9, 10])"
            ]
          },
          "metadata": {},
          "execution_count": 938
        }
      ]
    },
    {
      "cell_type": "markdown",
      "source": [
        "# Новий розділ"
      ],
      "metadata": {
        "id": "pgD5Hop3uxIs"
      }
    },
    {
      "cell_type": "code",
      "source": [
        "arr45=arr.reshape(4,5)\n",
        "arr45"
      ],
      "metadata": {
        "colab": {
          "base_uri": "https://localhost:8080/"
        },
        "id": "KeFV42Z4XDUE",
        "outputId": "9da82eca-98d8-41ea-df15-d37ce9b44fd4"
      },
      "execution_count": 939,
      "outputs": [
        {
          "output_type": "execute_result",
          "data": {
            "text/plain": [
              "array([[-9, -8, -7, -6, -5],\n",
              "       [-4, -3, -2, -1,  0],\n",
              "       [ 1,  2,  3,  4,  5],\n",
              "       [ 6,  7,  8,  9, 10]])"
            ]
          },
          "metadata": {},
          "execution_count": 939
        }
      ]
    },
    {
      "cell_type": "code",
      "source": [
        "arr45.shape"
      ],
      "metadata": {
        "colab": {
          "base_uri": "https://localhost:8080/"
        },
        "id": "Vqiy1My-YD4F",
        "outputId": "15569862-60e3-44bd-bc73-3abc7e56d683"
      },
      "execution_count": 940,
      "outputs": [
        {
          "output_type": "execute_result",
          "data": {
            "text/plain": [
              "(4, 5)"
            ]
          },
          "metadata": {},
          "execution_count": 940
        }
      ]
    },
    {
      "cell_type": "code",
      "source": [
        "arr_copy=np.copy(arr45[:3,:4])\n",
        "arr_copy"
      ],
      "metadata": {
        "colab": {
          "base_uri": "https://localhost:8080/"
        },
        "id": "AkRREY4vR2fl",
        "outputId": "f5c9f9e9-4e14-404a-eaf6-149c9a2e7ad1"
      },
      "execution_count": 941,
      "outputs": [
        {
          "output_type": "execute_result",
          "data": {
            "text/plain": [
              "array([[-9, -8, -7, -6],\n",
              "       [-4, -3, -2, -1],\n",
              "       [ 1,  2,  3,  4]])"
            ]
          },
          "metadata": {},
          "execution_count": 941
        }
      ]
    },
    {
      "cell_type": "code",
      "source": [
        "arr_copy[2:]=0\n",
        "arr_copy[:,3:]=0\n",
        "arr_copy"
      ],
      "metadata": {
        "colab": {
          "base_uri": "https://localhost:8080/"
        },
        "id": "cyTnYiiqZTit",
        "outputId": "b1442eb9-aff5-45d6-ae70-ddac01b251b0"
      },
      "execution_count": 942,
      "outputs": [
        {
          "output_type": "execute_result",
          "data": {
            "text/plain": [
              "array([[-9, -8, -7,  0],\n",
              "       [-4, -3, -2,  0],\n",
              "       [ 0,  0,  0,  0]])"
            ]
          },
          "metadata": {},
          "execution_count": 942
        }
      ]
    },
    {
      "cell_type": "code",
      "source": [
        "arr_copy[:2,:3]"
      ],
      "metadata": {
        "colab": {
          "base_uri": "https://localhost:8080/"
        },
        "id": "6sDZdAhWxGd1",
        "outputId": "01bfb84b-5ae4-45d1-b57a-956a3ded04e9"
      },
      "execution_count": 943,
      "outputs": [
        {
          "output_type": "execute_result",
          "data": {
            "text/plain": [
              "array([[-9, -8, -7],\n",
              "       [-4, -3, -2]])"
            ]
          },
          "metadata": {},
          "execution_count": 943
        }
      ]
    },
    {
      "cell_type": "code",
      "source": [
        "arr45"
      ],
      "metadata": {
        "colab": {
          "base_uri": "https://localhost:8080/"
        },
        "id": "Ps9zt_y3aSxt",
        "outputId": "d58a43f3-18ce-418c-9366-12029c642ed0"
      },
      "execution_count": 944,
      "outputs": [
        {
          "output_type": "execute_result",
          "data": {
            "text/plain": [
              "array([[-9, -8, -7, -6, -5],\n",
              "       [-4, -3, -2, -1,  0],\n",
              "       [ 1,  2,  3,  4,  5],\n",
              "       [ 6,  7,  8,  9, 10]])"
            ]
          },
          "metadata": {},
          "execution_count": 944
        }
      ]
    },
    {
      "cell_type": "code",
      "source": [
        "arr451=arr45[..., np.newaxis]\n",
        "arr451"
      ],
      "metadata": {
        "colab": {
          "base_uri": "https://localhost:8080/"
        },
        "id": "lBUmyZmlGUjG",
        "outputId": "dc88f010-a9a4-4125-9ba4-d0d91495bfc5"
      },
      "execution_count": 945,
      "outputs": [
        {
          "output_type": "execute_result",
          "data": {
            "text/plain": [
              "array([[[-9],\n",
              "        [-8],\n",
              "        [-7],\n",
              "        [-6],\n",
              "        [-5]],\n",
              "\n",
              "       [[-4],\n",
              "        [-3],\n",
              "        [-2],\n",
              "        [-1],\n",
              "        [ 0]],\n",
              "\n",
              "       [[ 1],\n",
              "        [ 2],\n",
              "        [ 3],\n",
              "        [ 4],\n",
              "        [ 5]],\n",
              "\n",
              "       [[ 6],\n",
              "        [ 7],\n",
              "        [ 8],\n",
              "        [ 9],\n",
              "        [10]]])"
            ]
          },
          "metadata": {},
          "execution_count": 945
        }
      ]
    },
    {
      "cell_type": "code",
      "source": [
        "arr451.shape"
      ],
      "metadata": {
        "colab": {
          "base_uri": "https://localhost:8080/"
        },
        "id": "JCyTLH0GbS71",
        "outputId": "d330cfab-9cbc-4e22-bcc8-9fa56af12c62"
      },
      "execution_count": 946,
      "outputs": [
        {
          "output_type": "execute_result",
          "data": {
            "text/plain": [
              "(4, 5, 1)"
            ]
          },
          "metadata": {},
          "execution_count": 946
        }
      ]
    },
    {
      "cell_type": "code",
      "source": [
        "class UnaryMethods:\n",
        "  def __init__(self,arr2d,slice_list=[],copy_number=1):\n",
        "    slice_data=slice_list if slice_list else arr2d.shape\n",
        "    # self.arr2d=np.copy(arr2d[:slice_data[0],:slice_data[1]])\n",
        "    self.arr2d=arr2d[:slice_data[0],:slice_data[1]]\n",
        "    self.copy=copy_number\n",
        "\n",
        "  def repeat(self):\n",
        "    if self.arr3d or self.arr3d.shape==self.copy:\n",
        "      return self.arr3d\n",
        "    self.arr3d=self.arr2d[...,np.newaxis]\n",
        "    self.arr3d= np.repeat(self.arr3d,self.copy, axis=2)\n",
        "    return self.arr3d\n",
        "\n",
        "  def get_abs(self):\n",
        "    return np.abs(self.arr2d)\n",
        "\n",
        "  def get_sqrt(self):\n",
        "    return np.sqrt(self.arr2d)\n",
        "\n",
        "  def get_square(self):\n",
        "    return np.square(self.arr2d)\n",
        "\n",
        "  def get_exp(self):\n",
        "    return np.exp(self.arr2d)\n",
        "\n",
        "  def get_log(self):\n",
        "    return np.log(self.arr2d)\n",
        "\n",
        "  def get_log10(self):\n",
        "    return np.log10(self.arr2d)\n",
        "\n",
        "  def get_log2(self):\n",
        "    return np.log2(self.arr2d)\n",
        "\n",
        "  def get_log1p(self):\n",
        "    return np.log1p(self.arr2d)\n",
        "\n",
        "  def get_sign(self):\n",
        "    return np.sign(self.arr2d)\n",
        "\n",
        "  def get_ceil(self):\n",
        "    return np.ceil(self.arr2d)\n",
        "\n",
        "  def get_floor(self):\n",
        "    return np.floor(self.arr2d)\n",
        "\n",
        "  def get_rint(self):\n",
        "    return np.rint(self.arr2d)\n",
        "\n",
        "  def get_modf(self):\n",
        "    return np.modf(self.arr2d)\n",
        "\n",
        "  def get_isnan(self):\n",
        "    return np.isnan(self.arr2d)\n",
        "\n",
        "  def get_isfinite(self):\n",
        "    return np.isfinite(self.arr2d)\n",
        "\n",
        "  def get_isinf(self):\n",
        "    return np.isinf(self.arr2d)\n",
        "\n",
        "  def get_cos(self):\n",
        "    return np.cos(self.arr2d)\n",
        "\n",
        "  def get_cosh(self):\n",
        "    return np.cosh(self.arr2d)\n",
        "\n",
        "  def get_sin(self):\n",
        "    return np.sin(self.arr2d)\n",
        "\n",
        "  def get_sinh(self):\n",
        "    return np.sinh(self.arr2d)\n",
        "\n",
        "  def get_tan(self):\n",
        "    return np.tan(self.arr2d)\n",
        "\n",
        "  def get_tanh(self):\n",
        "    return np.tanh(self.arr2d)\n",
        "\n",
        "  def get_arccos(self):\n",
        "    return np.arccos(self.arr2d)\n",
        "\n",
        "  def get_arccosh(self):\n",
        "    return np.arccosh(self.arr2d)\n",
        "\n",
        "  def get_arcsin(self):\n",
        "    return np.arcsin(self.arr2d)\n",
        "\n",
        "  def get_arcsinh(self):\n",
        "    return np.arcsinh(self.arr2d)\n",
        "\n",
        "  def get_arctan(self):\n",
        "    return np.arctan(self.arr2d)\n",
        "\n",
        "  def get_arctanh(self):\n",
        "    return np.arctanh(self.arr2d)\n",
        "\n",
        "  def get_logical_not(self):\n",
        "    return np.logical_not(self.arr2d)"
      ],
      "metadata": {
        "id": "nacnnUxtRWIC"
      },
      "execution_count": 947,
      "outputs": []
    },
    {
      "cell_type": "code",
      "source": [
        "um=UnaryMethods(arr_n,(3,4),2)\n",
        "um.arr2d"
      ],
      "metadata": {
        "colab": {
          "base_uri": "https://localhost:8080/"
        },
        "id": "a7Av2jQPhsLj",
        "outputId": "83096f41-d9b0-4135-d028-7266aa979049"
      },
      "execution_count": 948,
      "outputs": [
        {
          "output_type": "execute_result",
          "data": {
            "text/plain": [
              "array([[ 0.57652485,  1.90185987,  0.45282155,  0.27840136],\n",
              "       [-0.88926618, -1.6935088 , -0.57542745, -1.67527692],\n",
              "       [ 1.48434017, -0.50602426, -0.14433872, -1.25620973]])"
            ]
          },
          "metadata": {},
          "execution_count": 948
        }
      ]
    },
    {
      "cell_type": "code",
      "source": [
        "um.repeat()"
      ],
      "metadata": {
        "colab": {
          "base_uri": "https://localhost:8080/"
        },
        "id": "_q9gH4af8_gu",
        "outputId": "1165eaea-cf68-4362-cada-b8ce57820d9b"
      },
      "execution_count": 949,
      "outputs": [
        {
          "output_type": "execute_result",
          "data": {
            "text/plain": [
              "array([[[ 0.57652485,  0.57652485],\n",
              "        [ 1.90185987,  1.90185987],\n",
              "        [ 0.45282155,  0.45282155],\n",
              "        [ 0.27840136,  0.27840136]],\n",
              "\n",
              "       [[-0.88926618, -0.88926618],\n",
              "        [-1.6935088 , -1.6935088 ],\n",
              "        [-0.57542745, -0.57542745],\n",
              "        [-1.67527692, -1.67527692]],\n",
              "\n",
              "       [[ 1.48434017,  1.48434017],\n",
              "        [-0.50602426, -0.50602426],\n",
              "        [-0.14433872, -0.14433872],\n",
              "        [-1.25620973, -1.25620973]]])"
            ]
          },
          "metadata": {},
          "execution_count": 949
        }
      ]
    },
    {
      "cell_type": "code",
      "source": [
        "um.arr3d.shape"
      ],
      "metadata": {
        "colab": {
          "base_uri": "https://localhost:8080/"
        },
        "id": "NSpqKtpLcWeN",
        "outputId": "adb150ee-c8d0-4d77-f914-4c0b7f82facb"
      },
      "execution_count": 950,
      "outputs": [
        {
          "output_type": "execute_result",
          "data": {
            "text/plain": [
              "(3, 4, 2)"
            ]
          },
          "metadata": {},
          "execution_count": 950
        }
      ]
    },
    {
      "cell_type": "code",
      "source": [
        "um.get_abs()"
      ],
      "metadata": {
        "colab": {
          "base_uri": "https://localhost:8080/"
        },
        "id": "yQPZqNW_lvlG",
        "outputId": "b08bbdfc-af99-4518-dd5b-ee6753baf23b"
      },
      "execution_count": 951,
      "outputs": [
        {
          "output_type": "execute_result",
          "data": {
            "text/plain": [
              "array([[0.57652485, 1.90185987, 0.45282155, 0.27840136],\n",
              "       [0.88926618, 1.6935088 , 0.57542745, 1.67527692],\n",
              "       [1.48434017, 0.50602426, 0.14433872, 1.25620973]])"
            ]
          },
          "metadata": {},
          "execution_count": 951
        }
      ]
    },
    {
      "cell_type": "code",
      "source": [
        "um.get_square()"
      ],
      "metadata": {
        "colab": {
          "base_uri": "https://localhost:8080/"
        },
        "id": "-t4tCuMatIu1",
        "outputId": "5a236e0e-5d92-492d-828f-51bcbee956c0"
      },
      "execution_count": 952,
      "outputs": [
        {
          "output_type": "execute_result",
          "data": {
            "text/plain": [
              "array([[0.3323809 , 3.61707098, 0.20504736, 0.07750732],\n",
              "       [0.79079433, 2.86797204, 0.33111675, 2.80655277],\n",
              "       [2.20326575, 0.25606055, 0.02083367, 1.57806287]])"
            ]
          },
          "metadata": {},
          "execution_count": 952
        }
      ]
    },
    {
      "cell_type": "code",
      "source": [
        "um.get_sqrt()"
      ],
      "metadata": {
        "colab": {
          "base_uri": "https://localhost:8080/"
        },
        "id": "aTiCr7aantK7",
        "outputId": "64ccc8f4-0390-4f95-8a77-22efb090ac4f"
      },
      "execution_count": 953,
      "outputs": [
        {
          "output_type": "stream",
          "name": "stderr",
          "text": [
            "/usr/local/lib/python3.7/dist-packages/ipykernel_launcher.py:17: RuntimeWarning: invalid value encountered in sqrt\n"
          ]
        },
        {
          "output_type": "execute_result",
          "data": {
            "text/plain": [
              "array([[0.75929233, 1.37907936, 0.67292017, 0.52763753],\n",
              "       [       nan,        nan,        nan,        nan],\n",
              "       [1.218335  ,        nan,        nan,        nan]])"
            ]
          },
          "metadata": {},
          "execution_count": 953
        }
      ]
    },
    {
      "cell_type": "code",
      "source": [
        "um.get_exp()"
      ],
      "metadata": {
        "colab": {
          "base_uri": "https://localhost:8080/"
        },
        "id": "z332ntkLnerN",
        "outputId": "002acb6a-46f5-48d1-c14f-07c909ebfc00"
      },
      "execution_count": 954,
      "outputs": [
        {
          "output_type": "execute_result",
          "data": {
            "text/plain": [
              "array([[1.77984245, 6.69834093, 1.5727435 , 1.3210163 ],\n",
              "       [0.41095721, 0.18387322, 0.56246439, 0.18725632],\n",
              "       [4.41205326, 0.60288775, 0.8655945 , 0.28473119]])"
            ]
          },
          "metadata": {},
          "execution_count": 954
        }
      ]
    },
    {
      "cell_type": "code",
      "source": [
        "um.get_log()"
      ],
      "metadata": {
        "colab": {
          "base_uri": "https://localhost:8080/"
        },
        "id": "jDOvD4iDpGbc",
        "outputId": "33280eb9-c000-4aed-def1-b2bc840f49ad"
      },
      "execution_count": 955,
      "outputs": [
        {
          "output_type": "stream",
          "name": "stderr",
          "text": [
            "/usr/local/lib/python3.7/dist-packages/ipykernel_launcher.py:26: RuntimeWarning: invalid value encountered in log\n"
          ]
        },
        {
          "output_type": "execute_result",
          "data": {
            "text/plain": [
              "array([[-0.55073684,  0.64283229, -0.79225716, -1.27869145],\n",
              "       [        nan,         nan,         nan,         nan],\n",
              "       [ 0.39497035,         nan,         nan,         nan]])"
            ]
          },
          "metadata": {},
          "execution_count": 955
        }
      ]
    },
    {
      "cell_type": "code",
      "source": [
        "um.get_log10()"
      ],
      "metadata": {
        "colab": {
          "base_uri": "https://localhost:8080/"
        },
        "id": "lDRnNPzmycxu",
        "outputId": "7584494b-2108-4b8d-8fb6-7c6bcbf0ad48"
      },
      "execution_count": 956,
      "outputs": [
        {
          "output_type": "stream",
          "name": "stderr",
          "text": [
            "/usr/local/lib/python3.7/dist-packages/ipykernel_launcher.py:29: RuntimeWarning: invalid value encountered in log10\n"
          ]
        },
        {
          "output_type": "execute_result",
          "data": {
            "text/plain": [
              "array([[-0.23918197,  0.27917852, -0.34407291, -0.55532864],\n",
              "       [        nan,         nan,         nan,         nan],\n",
              "       [ 0.17153344,         nan,         nan,         nan]])"
            ]
          },
          "metadata": {},
          "execution_count": 956
        }
      ]
    },
    {
      "cell_type": "code",
      "source": [
        "um.get_log2()"
      ],
      "metadata": {
        "colab": {
          "base_uri": "https://localhost:8080/"
        },
        "id": "LMVHOWrJ00iH",
        "outputId": "f235fe2a-1b67-43e9-beea-16996715861c"
      },
      "execution_count": 957,
      "outputs": [
        {
          "output_type": "stream",
          "name": "stderr",
          "text": [
            "/usr/local/lib/python3.7/dist-packages/ipykernel_launcher.py:32: RuntimeWarning: invalid value encountered in log2\n"
          ]
        },
        {
          "output_type": "execute_result",
          "data": {
            "text/plain": [
              "array([[-0.79454531,  0.92741095, -1.14298548, -1.84476182],\n",
              "       [        nan,         nan,         nan,         nan],\n",
              "       [ 0.56982176,         nan,         nan,         nan]])"
            ]
          },
          "metadata": {},
          "execution_count": 957
        }
      ]
    },
    {
      "cell_type": "code",
      "source": [
        "um.get_log1p()"
      ],
      "metadata": {
        "colab": {
          "base_uri": "https://localhost:8080/"
        },
        "id": "7G4ynH7P0_SE",
        "outputId": "490b4fad-5c63-413d-98b9-509bb804da4e"
      },
      "execution_count": 958,
      "outputs": [
        {
          "output_type": "stream",
          "name": "stderr",
          "text": [
            "/usr/local/lib/python3.7/dist-packages/ipykernel_launcher.py:35: RuntimeWarning: invalid value encountered in log1p\n"
          ]
        },
        {
          "output_type": "execute_result",
          "data": {
            "text/plain": [
              "array([[ 0.45522296,  1.06535187,  0.37350756,  0.24561036],\n",
              "       [-2.20062594,         nan, -0.85667237,         nan],\n",
              "       [ 0.9100071 , -0.70526887, -0.15588068,         nan]])"
            ]
          },
          "metadata": {},
          "execution_count": 958
        }
      ]
    },
    {
      "cell_type": "code",
      "source": [
        "um.get_sign()"
      ],
      "metadata": {
        "colab": {
          "base_uri": "https://localhost:8080/"
        },
        "id": "L0RrqK4Z1C8z",
        "outputId": "1838c0b2-3440-4403-afac-b40e8d368c86"
      },
      "execution_count": 959,
      "outputs": [
        {
          "output_type": "execute_result",
          "data": {
            "text/plain": [
              "array([[ 1.,  1.,  1.,  1.],\n",
              "       [-1., -1., -1., -1.],\n",
              "       [ 1., -1., -1., -1.]])"
            ]
          },
          "metadata": {},
          "execution_count": 959
        }
      ]
    },
    {
      "cell_type": "code",
      "source": [
        "um.get_ceil()"
      ],
      "metadata": {
        "colab": {
          "base_uri": "https://localhost:8080/"
        },
        "id": "eKfaaRWk1Rfk",
        "outputId": "322cc0bd-a6d4-45b4-9522-4bc73faf5beb"
      },
      "execution_count": 960,
      "outputs": [
        {
          "output_type": "execute_result",
          "data": {
            "text/plain": [
              "array([[ 1.,  2.,  1.,  1.],\n",
              "       [-0., -1., -0., -1.],\n",
              "       [ 2., -0., -0., -1.]])"
            ]
          },
          "metadata": {},
          "execution_count": 960
        }
      ]
    },
    {
      "cell_type": "code",
      "source": [
        "um.get_floor()"
      ],
      "metadata": {
        "colab": {
          "base_uri": "https://localhost:8080/"
        },
        "id": "E0zwfrPl1UcU",
        "outputId": "10a4a4c5-1fd2-47f7-bdc7-c4b63dfc59f4"
      },
      "execution_count": 961,
      "outputs": [
        {
          "output_type": "execute_result",
          "data": {
            "text/plain": [
              "array([[ 0.,  1.,  0.,  0.],\n",
              "       [-1., -2., -1., -2.],\n",
              "       [ 1., -1., -1., -2.]])"
            ]
          },
          "metadata": {},
          "execution_count": 961
        }
      ]
    },
    {
      "cell_type": "code",
      "source": [
        "um.get_rint()"
      ],
      "metadata": {
        "colab": {
          "base_uri": "https://localhost:8080/"
        },
        "id": "C_xB58A71Wwk",
        "outputId": "b4797bbb-340b-40b7-88d9-71145fb9ea0b"
      },
      "execution_count": 962,
      "outputs": [
        {
          "output_type": "execute_result",
          "data": {
            "text/plain": [
              "array([[ 1.,  2.,  0.,  0.],\n",
              "       [-1., -2., -1., -2.],\n",
              "       [ 1., -1., -0., -1.]])"
            ]
          },
          "metadata": {},
          "execution_count": 962
        }
      ]
    },
    {
      "cell_type": "code",
      "source": [
        "um.get_modf()"
      ],
      "metadata": {
        "colab": {
          "base_uri": "https://localhost:8080/"
        },
        "id": "tPHEyp4r2Ak8",
        "outputId": "be673b85-2081-4345-f07a-2f2785ff8214"
      },
      "execution_count": 963,
      "outputs": [
        {
          "output_type": "execute_result",
          "data": {
            "text/plain": [
              "(array([[ 0.57652485,  0.90185987,  0.45282155,  0.27840136],\n",
              "        [-0.88926618, -0.6935088 , -0.57542745, -0.67527692],\n",
              "        [ 0.48434017, -0.50602426, -0.14433872, -0.25620973]]),\n",
              " array([[ 0.,  1.,  0.,  0.],\n",
              "        [-0., -1., -0., -1.],\n",
              "        [ 1., -0., -0., -1.]]))"
            ]
          },
          "metadata": {},
          "execution_count": 963
        }
      ]
    },
    {
      "cell_type": "code",
      "source": [
        "um.get_isnan()"
      ],
      "metadata": {
        "colab": {
          "base_uri": "https://localhost:8080/"
        },
        "id": "mn-dYWSM4BWN",
        "outputId": "7f0c8e00-b490-4e50-dd35-3becae21b988"
      },
      "execution_count": 964,
      "outputs": [
        {
          "output_type": "execute_result",
          "data": {
            "text/plain": [
              "array([[False, False, False, False],\n",
              "       [False, False, False, False],\n",
              "       [False, False, False, False]])"
            ]
          },
          "metadata": {},
          "execution_count": 964
        }
      ]
    },
    {
      "cell_type": "code",
      "source": [
        "um.get_isfinite()"
      ],
      "metadata": {
        "colab": {
          "base_uri": "https://localhost:8080/"
        },
        "id": "jDs5Hyi24F68",
        "outputId": "f3f42586-e4c9-40cd-9eec-575e6b8a61f8"
      },
      "execution_count": 965,
      "outputs": [
        {
          "output_type": "execute_result",
          "data": {
            "text/plain": [
              "array([[ True,  True,  True,  True],\n",
              "       [ True,  True,  True,  True],\n",
              "       [ True,  True,  True,  True]])"
            ]
          },
          "metadata": {},
          "execution_count": 965
        }
      ]
    },
    {
      "cell_type": "code",
      "source": [
        "um.get_isinf()"
      ],
      "metadata": {
        "colab": {
          "base_uri": "https://localhost:8080/"
        },
        "id": "BOoG4KWS4Q1V",
        "outputId": "9f630c1b-0b05-4f40-94fc-0fe6a6898b5f"
      },
      "execution_count": 966,
      "outputs": [
        {
          "output_type": "execute_result",
          "data": {
            "text/plain": [
              "array([[False, False, False, False],\n",
              "       [False, False, False, False],\n",
              "       [False, False, False, False]])"
            ]
          },
          "metadata": {},
          "execution_count": 966
        }
      ]
    },
    {
      "cell_type": "code",
      "source": [
        "um.get_cos()"
      ],
      "metadata": {
        "colab": {
          "base_uri": "https://localhost:8080/"
        },
        "id": "v3ttzjZS4WTl",
        "outputId": "8c0d63b3-9726-4a00-db97-38c3eb8c8474"
      },
      "execution_count": 967,
      "outputs": [
        {
          "output_type": "execute_result",
          "data": {
            "text/plain": [
              "array([[ 0.83836206, -0.325049  ,  0.89921624,  0.961496  ],\n",
              "       [ 0.62998209, -0.12240473,  0.83895977, -0.10429061],\n",
              "       [ 0.08634849,  0.87467847,  0.98960124,  0.30942339]])"
            ]
          },
          "metadata": {},
          "execution_count": 967
        }
      ]
    },
    {
      "cell_type": "code",
      "source": [
        "um.get_cosh()"
      ],
      "metadata": {
        "colab": {
          "base_uri": "https://localhost:8080/"
        },
        "id": "eRPKIt6b4bcj",
        "outputId": "b4578ee3-5448-4557-882b-b3a0d06c4dd4"
      },
      "execution_count": 968,
      "outputs": [
        {
          "output_type": "execute_result",
          "data": {
            "text/plain": [
              "array([[1.17084497, 3.42381581, 1.10428755, 1.03900461],\n",
              "       [1.42215028, 2.81120159, 1.17017736, 2.76376505],\n",
              "       [2.31935255, 1.13078566, 1.01043493, 1.89840783]])"
            ]
          },
          "metadata": {},
          "execution_count": 968
        }
      ]
    },
    {
      "cell_type": "code",
      "source": [
        "um.get_sin()"
      ],
      "metadata": {
        "colab": {
          "base_uri": "https://localhost:8080/"
        },
        "id": "jEw9D0I04gGM",
        "outputId": "c3e0d756-c437-4d67-ed6b-bdd2645d7234"
      },
      "execution_count": 969,
      "outputs": [
        {
          "output_type": "execute_result",
          "data": {
            "text/plain": [
              "array([[ 0.5451138 ,  0.94569717,  0.43750446,  0.27481892],\n",
              "       [-0.77660966, -0.99248027, -0.54419345, -0.99454687],\n",
              "       [ 0.99626499, -0.48470359, -0.14383806, -0.95092438]])"
            ]
          },
          "metadata": {},
          "execution_count": 969
        }
      ]
    },
    {
      "cell_type": "code",
      "source": [
        "um.get_sinh()"
      ],
      "metadata": {
        "colab": {
          "base_uri": "https://localhost:8080/"
        },
        "id": "3JWKw9m-4jX0",
        "outputId": "a95f1779-2bad-4731-9b3d-bbf98d97fab7"
      },
      "execution_count": 970,
      "outputs": [
        {
          "output_type": "execute_result",
          "data": {
            "text/plain": [
              "array([[ 0.60899748,  3.27452512,  0.46845596,  0.28201168],\n",
              "       [-1.01119307, -2.62732837, -0.60771296, -2.57650874],\n",
              "       [ 2.09270071, -0.52789791, -0.14484043, -1.61367664]])"
            ]
          },
          "metadata": {},
          "execution_count": 970
        }
      ]
    },
    {
      "cell_type": "code",
      "source": [
        "um.get_tan()"
      ],
      "metadata": {
        "colab": {
          "base_uri": "https://localhost:8080/"
        },
        "id": "Pmz1yRIJ4lQ3",
        "outputId": "3ee57aca-0914-49e6-d301-93b0875ceed3"
      },
      "execution_count": 971,
      "outputs": [
        {
          "output_type": "execute_result",
          "data": {
            "text/plain": [
              "array([[ 0.65021287, -2.90939877,  0.48653976,  0.2858243 ],\n",
              "       [-1.23274879,  8.1081858 , -0.64865262,  9.53630294],\n",
              "       [11.5377235 , -0.55415059, -0.14534951, -3.0732143 ]])"
            ]
          },
          "metadata": {},
          "execution_count": 971
        }
      ]
    },
    {
      "cell_type": "code",
      "source": [
        "um.get_tanh()"
      ],
      "metadata": {
        "colab": {
          "base_uri": "https://localhost:8080/"
        },
        "id": "gG8kbFQS4n4t",
        "outputId": "9455170a-02aa-405e-d0bc-c9414779770a"
      },
      "execution_count": 972,
      "outputs": [
        {
          "output_type": "execute_result",
          "data": {
            "text/plain": [
              "array([[ 0.52013503,  0.9563964 ,  0.42421556,  0.27142486],\n",
              "       [-0.71103109, -0.93459266, -0.51933406, -0.93224594],\n",
              "       [ 0.90227797, -0.46684171, -0.14334463, -0.85001579]])"
            ]
          },
          "metadata": {},
          "execution_count": 972
        }
      ]
    },
    {
      "cell_type": "code",
      "source": [
        "um.get_arccos()"
      ],
      "metadata": {
        "colab": {
          "base_uri": "https://localhost:8080/"
        },
        "id": "ZY-k3pi14wQt",
        "outputId": "06c77e9b-4ba1-4f76-9ba8-72ec88a9dc7a"
      },
      "execution_count": 973,
      "outputs": [
        {
          "output_type": "stream",
          "name": "stderr",
          "text": [
            "/usr/local/lib/python3.7/dist-packages/ipykernel_launcher.py:80: RuntimeWarning: invalid value encountered in arccos\n"
          ]
        },
        {
          "output_type": "execute_result",
          "data": {
            "text/plain": [
              "array([[0.95632719,        nan, 1.10086893, 1.28866706],\n",
              "       [2.66653461,        nan, 2.18392302,        nan],\n",
              "       [       nan, 2.1013654 , 1.71564099,        nan]])"
            ]
          },
          "metadata": {},
          "execution_count": 973
        }
      ]
    },
    {
      "cell_type": "code",
      "source": [
        "um.get_arccosh()"
      ],
      "metadata": {
        "colab": {
          "base_uri": "https://localhost:8080/"
        },
        "id": "9G6oKIPA4yN0",
        "outputId": "1ff7db36-b8dd-4ea9-a340-89669a244576"
      },
      "execution_count": 974,
      "outputs": [
        {
          "output_type": "stream",
          "name": "stderr",
          "text": [
            "/usr/local/lib/python3.7/dist-packages/ipykernel_launcher.py:83: RuntimeWarning: invalid value encountered in arccosh\n"
          ]
        },
        {
          "output_type": "execute_result",
          "data": {
            "text/plain": [
              "array([[       nan, 1.25834628,        nan,        nan],\n",
              "       [       nan,        nan,        nan,        nan],\n",
              "       [0.94828342,        nan,        nan,        nan]])"
            ]
          },
          "metadata": {},
          "execution_count": 974
        }
      ]
    },
    {
      "cell_type": "code",
      "source": [
        "um.get_arcsin()"
      ],
      "metadata": {
        "colab": {
          "base_uri": "https://localhost:8080/"
        },
        "id": "IwqPIAJB40Is",
        "outputId": "60eb86dc-7afb-481b-8791-86c821cbd071"
      },
      "execution_count": 975,
      "outputs": [
        {
          "output_type": "stream",
          "name": "stderr",
          "text": [
            "/usr/local/lib/python3.7/dist-packages/ipykernel_launcher.py:86: RuntimeWarning: invalid value encountered in arcsin\n"
          ]
        },
        {
          "output_type": "execute_result",
          "data": {
            "text/plain": [
              "array([[ 0.61446914,         nan,  0.46992739,  0.28212927],\n",
              "       [-1.09573829,         nan, -0.6131267 ,         nan],\n",
              "       [        nan, -0.53056907, -0.14484466,         nan]])"
            ]
          },
          "metadata": {},
          "execution_count": 975
        }
      ]
    },
    {
      "cell_type": "code",
      "source": [
        "um.get_arcsinh()"
      ],
      "metadata": {
        "colab": {
          "base_uri": "https://localhost:8080/"
        },
        "id": "EOEEGHpy4019",
        "outputId": "322d0445-b53f-4f30-8fea-bcf8f348840b"
      },
      "execution_count": 976,
      "outputs": [
        {
          "output_type": "execute_result",
          "data": {
            "text/plain": [
              "array([[ 0.54859118,  1.39886426,  0.43862134,  0.27492494],\n",
              "       [-0.80086723, -1.29752458, -0.54764024, -1.28821721],\n",
              "       [ 1.1860452 , -0.48659358, -0.14384218, -1.05146633]])"
            ]
          },
          "metadata": {},
          "execution_count": 976
        }
      ]
    },
    {
      "cell_type": "code",
      "source": [
        "um.get_arctan()"
      ],
      "metadata": {
        "colab": {
          "base_uri": "https://localhost:8080/"
        },
        "id": "FYa7g1Wn42PE",
        "outputId": "857c457f-35ce-4db4-baa4-53a165df9e2b"
      },
      "execution_count": 977,
      "outputs": [
        {
          "output_type": "execute_result",
          "data": {
            "text/plain": [
              "array([[ 0.52297949,  1.08672153,  0.42519785,  0.27152567],\n",
              "       [-0.72685306, -1.03739882, -0.52215546, -1.03264738],\n",
              "       [ 0.97794027, -0.46845539, -0.1433487 , -0.89847137]])"
            ]
          },
          "metadata": {},
          "execution_count": 977
        }
      ]
    },
    {
      "cell_type": "code",
      "source": [
        "um.get_arctanh()"
      ],
      "metadata": {
        "colab": {
          "base_uri": "https://localhost:8080/"
        },
        "id": "f8iSyDpI4398",
        "outputId": "f51e9354-2ee2-47df-db46-2e05330b11ec"
      },
      "execution_count": 978,
      "outputs": [
        {
          "output_type": "stream",
          "name": "stderr",
          "text": [
            "/usr/local/lib/python3.7/dist-packages/ipykernel_launcher.py:95: RuntimeWarning: invalid value encountered in arctanh\n"
          ]
        },
        {
          "output_type": "execute_result",
          "data": {
            "text/plain": [
              "array([[ 0.6572417 ,         nan,  0.48824393,  0.28594828],\n",
              "       [-1.41840721,         nan, -0.6555995 ,         nan],\n",
              "       [        nan, -0.55737105, -0.14535381,         nan]])"
            ]
          },
          "metadata": {},
          "execution_count": 978
        }
      ]
    },
    {
      "cell_type": "code",
      "source": [
        "um.get_logical_not()"
      ],
      "metadata": {
        "colab": {
          "base_uri": "https://localhost:8080/"
        },
        "id": "mfPnCPRv4_1E",
        "outputId": "ea141faf-52f9-47ba-9c66-32da21873904"
      },
      "execution_count": 979,
      "outputs": [
        {
          "output_type": "execute_result",
          "data": {
            "text/plain": [
              "array([[False, False, False, False],\n",
              "       [False, False, False, False],\n",
              "       [False, False, False, False]])"
            ]
          },
          "metadata": {},
          "execution_count": 979
        }
      ]
    },
    {
      "cell_type": "code",
      "source": [
        "um=UnaryMethods(arr45,copy_number=3)\n",
        "um.arr2d"
      ],
      "metadata": {
        "colab": {
          "base_uri": "https://localhost:8080/"
        },
        "id": "9o0nOc4XdriH",
        "outputId": "0dfe7a45-25e8-4a8a-c8c0-e2ec4ff31762"
      },
      "execution_count": 987,
      "outputs": [
        {
          "output_type": "execute_result",
          "data": {
            "text/plain": [
              "array([[-9, -8, -7, -6, -5],\n",
              "       [-4, -3, -2, -1,  0],\n",
              "       [ 1,  2,  3,  4,  5],\n",
              "       [ 6,  7,  8,  9, 10]])"
            ]
          },
          "metadata": {},
          "execution_count": 987
        }
      ]
    },
    {
      "cell_type": "code",
      "source": [
        "res=um.repeat()\n",
        "res"
      ],
      "metadata": {
        "colab": {
          "base_uri": "https://localhost:8080/"
        },
        "id": "FH1SM_pJeE88",
        "outputId": "b9b87566-aa54-4b59-c096-f22e5249cff8"
      },
      "execution_count": 988,
      "outputs": [
        {
          "output_type": "execute_result",
          "data": {
            "text/plain": [
              "array([[[-9, -9, -9],\n",
              "        [-8, -8, -8],\n",
              "        [-7, -7, -7],\n",
              "        [-6, -6, -6],\n",
              "        [-5, -5, -5]],\n",
              "\n",
              "       [[-4, -4, -4],\n",
              "        [-3, -3, -3],\n",
              "        [-2, -2, -2],\n",
              "        [-1, -1, -1],\n",
              "        [ 0,  0,  0]],\n",
              "\n",
              "       [[ 1,  1,  1],\n",
              "        [ 2,  2,  2],\n",
              "        [ 3,  3,  3],\n",
              "        [ 4,  4,  4],\n",
              "        [ 5,  5,  5]],\n",
              "\n",
              "       [[ 6,  6,  6],\n",
              "        [ 7,  7,  7],\n",
              "        [ 8,  8,  8],\n",
              "        [ 9,  9,  9],\n",
              "        [10, 10, 10]]])"
            ]
          },
          "metadata": {},
          "execution_count": 988
        }
      ]
    },
    {
      "cell_type": "code",
      "source": [
        "res.shape"
      ],
      "metadata": {
        "colab": {
          "base_uri": "https://localhost:8080/"
        },
        "id": "5jIngNwTebE1",
        "outputId": "892d239e-c99c-4894-d943-024b55f8946c"
      },
      "execution_count": 989,
      "outputs": [
        {
          "output_type": "execute_result",
          "data": {
            "text/plain": [
              "(4, 5, 3)"
            ]
          },
          "metadata": {},
          "execution_count": 989
        }
      ]
    }
  ]
}