{
  "nbformat": 4,
  "nbformat_minor": 0,
  "metadata": {
    "colab": {
      "name": "lesson_07.ipynb",
      "provenance": [],
      "collapsed_sections": [],
      "authorship_tag": "ABX9TyMeJEF401dFjeyUuj/OYWQu",
      "include_colab_link": true
    },
    "kernelspec": {
      "name": "python3",
      "display_name": "Python 3"
    },
    "language_info": {
      "name": "python"
    }
  },
  "cells": [
    {
      "cell_type": "markdown",
      "metadata": {
        "id": "view-in-github",
        "colab_type": "text"
      },
      "source": [
        "<a href=\"https://colab.research.google.com/github/Lekuro/Intership_ML/blob/lesson_07_numpy/lesson_07.ipynb\" target=\"_parent\"><img src=\"https://colab.research.google.com/assets/colab-badge.svg\" alt=\"Open In Colab\"/></a>"
      ]
    },
    {
      "cell_type": "code",
      "execution_count": 520,
      "metadata": {
        "id": "D6f-BTLWN48P"
      },
      "outputs": [],
      "source": [
        "import numpy as np"
      ]
    },
    {
      "cell_type": "code",
      "source": [
        "arr_int=np.random.randint(-100,100, size=(4,5))\n",
        "arr_int"
      ],
      "metadata": {
        "colab": {
          "base_uri": "https://localhost:8080/"
        },
        "id": "Pprua3jERGOc",
        "outputId": "75bb6de3-5773-43f3-9531-29ffc44fe244"
      },
      "execution_count": 521,
      "outputs": [
        {
          "output_type": "execute_result",
          "data": {
            "text/plain": [
              "array([[-24, -55,  99,  85, -85],\n",
              "       [ 73, -92,  -6,  30,  19],\n",
              "       [ 81,  -8, -80,  19, -40],\n",
              "       [-20,   9,   1,   1,  -3]])"
            ]
          },
          "metadata": {},
          "execution_count": 521
        }
      ]
    },
    {
      "cell_type": "code",
      "source": [
        "arr_n=np.random.randn(4,5)"
      ],
      "metadata": {
        "id": "mLha2ePzzcmM"
      },
      "execution_count": 522,
      "outputs": []
    },
    {
      "cell_type": "code",
      "source": [
        "arr=np.arange(-9,11)\n",
        "arr"
      ],
      "metadata": {
        "colab": {
          "base_uri": "https://localhost:8080/"
        },
        "id": "951lR2EEW2K8",
        "outputId": "d056ba1b-1b70-48c4-e91a-32d5d18755d0"
      },
      "execution_count": 523,
      "outputs": [
        {
          "output_type": "execute_result",
          "data": {
            "text/plain": [
              "array([-9, -8, -7, -6, -5, -4, -3, -2, -1,  0,  1,  2,  3,  4,  5,  6,  7,\n",
              "        8,  9, 10])"
            ]
          },
          "metadata": {},
          "execution_count": 523
        }
      ]
    },
    {
      "cell_type": "markdown",
      "source": [
        "# Новий розділ"
      ],
      "metadata": {
        "id": "pgD5Hop3uxIs"
      }
    },
    {
      "cell_type": "code",
      "source": [
        "arr45=arr.reshape(4,5)\n",
        "arr45"
      ],
      "metadata": {
        "colab": {
          "base_uri": "https://localhost:8080/"
        },
        "id": "KeFV42Z4XDUE",
        "outputId": "eaf4a0ea-1f91-4b67-8119-fd389587fb28"
      },
      "execution_count": 524,
      "outputs": [
        {
          "output_type": "execute_result",
          "data": {
            "text/plain": [
              "array([[-9, -8, -7, -6, -5],\n",
              "       [-4, -3, -2, -1,  0],\n",
              "       [ 1,  2,  3,  4,  5],\n",
              "       [ 6,  7,  8,  9, 10]])"
            ]
          },
          "metadata": {},
          "execution_count": 524
        }
      ]
    },
    {
      "cell_type": "code",
      "source": [
        "arr45.shape"
      ],
      "metadata": {
        "colab": {
          "base_uri": "https://localhost:8080/"
        },
        "id": "Vqiy1My-YD4F",
        "outputId": "835b7941-ba7f-4faf-ca97-797ca2d01b6a"
      },
      "execution_count": 525,
      "outputs": [
        {
          "output_type": "execute_result",
          "data": {
            "text/plain": [
              "(4, 5)"
            ]
          },
          "metadata": {},
          "execution_count": 525
        }
      ]
    },
    {
      "cell_type": "code",
      "source": [
        "arr_copy=np.copy(arr45[:3,:4])\n",
        "arr_copy"
      ],
      "metadata": {
        "colab": {
          "base_uri": "https://localhost:8080/"
        },
        "id": "AkRREY4vR2fl",
        "outputId": "aadfe070-24ff-4d32-82c2-396ee01d4c6c"
      },
      "execution_count": 526,
      "outputs": [
        {
          "output_type": "execute_result",
          "data": {
            "text/plain": [
              "array([[-9, -8, -7, -6],\n",
              "       [-4, -3, -2, -1],\n",
              "       [ 1,  2,  3,  4]])"
            ]
          },
          "metadata": {},
          "execution_count": 526
        }
      ]
    },
    {
      "cell_type": "code",
      "source": [
        "arr_copy[2:]=0\n",
        "arr_copy[:,3:]=0\n",
        "arr_copy"
      ],
      "metadata": {
        "colab": {
          "base_uri": "https://localhost:8080/"
        },
        "id": "cyTnYiiqZTit",
        "outputId": "0e9c25e3-b969-4522-970c-7da45e9749ad"
      },
      "execution_count": 527,
      "outputs": [
        {
          "output_type": "execute_result",
          "data": {
            "text/plain": [
              "array([[-9, -8, -7,  0],\n",
              "       [-4, -3, -2,  0],\n",
              "       [ 0,  0,  0,  0]])"
            ]
          },
          "metadata": {},
          "execution_count": 527
        }
      ]
    },
    {
      "cell_type": "code",
      "source": [
        "arr_copy[:2,:3]"
      ],
      "metadata": {
        "colab": {
          "base_uri": "https://localhost:8080/"
        },
        "id": "6sDZdAhWxGd1",
        "outputId": "7d80dcd1-8e50-44ef-e362-52e5f88689b2"
      },
      "execution_count": 528,
      "outputs": [
        {
          "output_type": "execute_result",
          "data": {
            "text/plain": [
              "array([[-9, -8, -7],\n",
              "       [-4, -3, -2]])"
            ]
          },
          "metadata": {},
          "execution_count": 528
        }
      ]
    },
    {
      "cell_type": "code",
      "source": [
        "arr45"
      ],
      "metadata": {
        "colab": {
          "base_uri": "https://localhost:8080/"
        },
        "id": "Ps9zt_y3aSxt",
        "outputId": "0abf6b1f-753d-4d55-b3ec-331688a252a1"
      },
      "execution_count": 529,
      "outputs": [
        {
          "output_type": "execute_result",
          "data": {
            "text/plain": [
              "array([[-9, -8, -7, -6, -5],\n",
              "       [-4, -3, -2, -1,  0],\n",
              "       [ 1,  2,  3,  4,  5],\n",
              "       [ 6,  7,  8,  9, 10]])"
            ]
          },
          "metadata": {},
          "execution_count": 529
        }
      ]
    },
    {
      "cell_type": "code",
      "source": [
        "class UnaryMethods:\n",
        "  def __init__(self,arr2d,slice_list=[],copy_number=1):\n",
        "    slice_data=slice_list if slice_list else arr2d.shape\n",
        "    # self.arr2d=np.copy(arr2d[:slice_data[0],:slice_data[1]])\n",
        "    self.arr2d=arr2d[:slice_data[0],:slice_data[1]]\n",
        "    self.copy=copy_number\n",
        "\n",
        "  def get_abs(self):\n",
        "    return np.abs(self.arr2d)\n",
        "\n",
        "  def get_sqrt(self):\n",
        "    return np.sqrt(self.arr2d)\n",
        "\n",
        "  def get_square(self):\n",
        "    return np.square(self.arr2d)\n",
        "\n",
        "  def get_exp(self):\n",
        "    return np.exp(self.arr2d)\n",
        "\n",
        "  def get_log(self):\n",
        "    return np.log(self.arr2d)\n",
        "\n",
        "  def get_log10(self):\n",
        "    return np.log10(self.arr2d)\n",
        "\n",
        "  def get_log2(self):\n",
        "    return np.log2(self.arr2d)\n",
        "\n",
        "  def get_log1p(self):\n",
        "    return np.log1p(self.arr2d)\n",
        "\n",
        "  def get_sign(self):\n",
        "    return np.sign(self.arr2d)\n",
        "\n",
        "  def get_ceil(self):\n",
        "    return np.ceil(self.arr2d)\n",
        "\n",
        "  def get_floor(self):\n",
        "    return np.floor(self.arr2d)\n",
        "\n",
        "  def get_rint(self):\n",
        "    return np.rint(self.arr2d)\n",
        "\n",
        "  def get_modf(self):\n",
        "    return np.modf(self.arr2d)\n",
        "\n",
        "  def get_isnan(self):\n",
        "    return np.isnan(self.arr2d)\n",
        "\n",
        "  def get_isfinite(self):\n",
        "    return np.isfinite(self.arr2d)\n",
        "\n",
        "  def get_isinf(self):\n",
        "    return np.isinf(self.arr2d)\n",
        "\n",
        "  def get_cos(self):\n",
        "    return np.cos(self.arr2d)\n",
        "\n",
        "  def get_cosh(self):\n",
        "    return np.cosh(self.arr2d)\n",
        "\n",
        "  def get_sin(self):\n",
        "    return np.sin(self.arr2d)\n",
        "\n",
        "  def get_sinh(self):\n",
        "    return np.sinh(self.arr2d)\n",
        "\n",
        "  def get_tan(self):\n",
        "    return np.tan(self.arr2d)\n",
        "\n",
        "  def get_tanh(self):\n",
        "    return np.tanh(self.arr2d)\n",
        "\n",
        "  def get_arccos(self):\n",
        "    return np.arccos(self.arr2d)\n",
        "\n",
        "  def get_arccosh(self):\n",
        "    return np.arccosh(self.arr2d)\n",
        "\n",
        "  def get_arcsin(self):\n",
        "    return np.arcsin(self.arr2d)\n",
        "\n",
        "  def get_arcsinh(self):\n",
        "    return np.arcsinh(self.arr2d)\n",
        "\n",
        "  def get_arctan(self):\n",
        "    return np.arctan(self.arr2d)\n",
        "\n",
        "  def get_arctanh(self):\n",
        "    return np.arctanh(self.arr2d)\n",
        "\n",
        "  def get_logical_not(self):\n",
        "    return np.logical_not(self.arr2d)"
      ],
      "metadata": {
        "id": "nacnnUxtRWIC"
      },
      "execution_count": 530,
      "outputs": []
    },
    {
      "cell_type": "code",
      "source": [
        "um=UnaryMethods(arr_n,(3,4))\n",
        "um.arr2d"
      ],
      "metadata": {
        "colab": {
          "base_uri": "https://localhost:8080/"
        },
        "id": "a7Av2jQPhsLj",
        "outputId": "c9284b07-2b44-4280-e187-d00413f02e09"
      },
      "execution_count": 531,
      "outputs": [
        {
          "output_type": "execute_result",
          "data": {
            "text/plain": [
              "array([[ 2.04614416,  1.62244703, -1.57701317, -0.31201499],\n",
              "       [-0.5091803 ,  1.50761251,  1.13846883, -0.77590949],\n",
              "       [-0.16957183, -1.07922811,  0.9765341 , -0.46606446]])"
            ]
          },
          "metadata": {},
          "execution_count": 531
        }
      ]
    },
    {
      "cell_type": "code",
      "source": [
        "um.get_abs()"
      ],
      "metadata": {
        "colab": {
          "base_uri": "https://localhost:8080/"
        },
        "id": "yQPZqNW_lvlG",
        "outputId": "09d93361-f700-4d10-dd05-6eebcee2c382"
      },
      "execution_count": 532,
      "outputs": [
        {
          "output_type": "execute_result",
          "data": {
            "text/plain": [
              "array([[2.04614416, 1.62244703, 1.57701317, 0.31201499],\n",
              "       [0.5091803 , 1.50761251, 1.13846883, 0.77590949],\n",
              "       [0.16957183, 1.07922811, 0.9765341 , 0.46606446]])"
            ]
          },
          "metadata": {},
          "execution_count": 532
        }
      ]
    },
    {
      "cell_type": "code",
      "source": [
        "um.get_square()"
      ],
      "metadata": {
        "colab": {
          "base_uri": "https://localhost:8080/"
        },
        "id": "-t4tCuMatIu1",
        "outputId": "7430d513-9fdd-4462-8e94-82ede82287bb"
      },
      "execution_count": 533,
      "outputs": [
        {
          "output_type": "execute_result",
          "data": {
            "text/plain": [
              "array([[4.18670594, 2.63233438, 2.48697054, 0.09735335],\n",
              "       [0.25926457, 2.27289547, 1.29611127, 0.60203554],\n",
              "       [0.02875461, 1.16473332, 0.95361884, 0.21721608]])"
            ]
          },
          "metadata": {},
          "execution_count": 533
        }
      ]
    },
    {
      "cell_type": "code",
      "source": [
        "um.get_sqrt()"
      ],
      "metadata": {
        "colab": {
          "base_uri": "https://localhost:8080/"
        },
        "id": "aTiCr7aantK7",
        "outputId": "9a8eece2-b503-40ad-8503-c81bec3cfc97"
      },
      "execution_count": 534,
      "outputs": [
        {
          "output_type": "stream",
          "name": "stderr",
          "text": [
            "/usr/local/lib/python3.7/dist-packages/ipykernel_launcher.py:12: RuntimeWarning: invalid value encountered in sqrt\n",
            "  if sys.path[0] == '':\n"
          ]
        },
        {
          "output_type": "execute_result",
          "data": {
            "text/plain": [
              "array([[1.43043496, 1.27375313,        nan,        nan],\n",
              "       [       nan, 1.22784873, 1.06699055,        nan],\n",
              "       [       nan,        nan, 0.9881974 ,        nan]])"
            ]
          },
          "metadata": {},
          "execution_count": 534
        }
      ]
    },
    {
      "cell_type": "code",
      "source": [
        "um.get_exp()"
      ],
      "metadata": {
        "colab": {
          "base_uri": "https://localhost:8080/"
        },
        "id": "z332ntkLnerN",
        "outputId": "958e552e-fe6e-40e7-c7e5-dd24ca2d8484"
      },
      "execution_count": 535,
      "outputs": [
        {
          "output_type": "execute_result",
          "data": {
            "text/plain": [
              "array([[7.73800703, 5.06547054, 0.20659123, 0.73197056],\n",
              "       [0.60098801, 4.51593615, 3.12198441, 0.46028496],\n",
              "       [0.84402612, 0.33985776, 2.65523748, 0.62746684]])"
            ]
          },
          "metadata": {},
          "execution_count": 535
        }
      ]
    },
    {
      "cell_type": "code",
      "source": [
        "um.get_log()"
      ],
      "metadata": {
        "colab": {
          "base_uri": "https://localhost:8080/"
        },
        "id": "jDOvD4iDpGbc",
        "outputId": "4067131d-efcd-4c64-b885-d3182ea4d5ed"
      },
      "execution_count": 536,
      "outputs": [
        {
          "output_type": "stream",
          "name": "stderr",
          "text": [
            "/usr/local/lib/python3.7/dist-packages/ipykernel_launcher.py:21: RuntimeWarning: invalid value encountered in log\n"
          ]
        },
        {
          "output_type": "execute_result",
          "data": {
            "text/plain": [
              "array([[ 0.71595713,  0.48393552,         nan,         nan],\n",
              "       [        nan,  0.41052728,  0.12968423,         nan],\n",
              "       [        nan,         nan, -0.02374561,         nan]])"
            ]
          },
          "metadata": {},
          "execution_count": 536
        }
      ]
    },
    {
      "cell_type": "code",
      "source": [
        "um.get_log10()"
      ],
      "metadata": {
        "colab": {
          "base_uri": "https://localhost:8080/"
        },
        "id": "lDRnNPzmycxu",
        "outputId": "48f0e165-441d-433b-9b5e-db1f83b7fa54"
      },
      "execution_count": 537,
      "outputs": [
        {
          "output_type": "stream",
          "name": "stderr",
          "text": [
            "/usr/local/lib/python3.7/dist-packages/ipykernel_launcher.py:24: RuntimeWarning: invalid value encountered in log10\n"
          ]
        },
        {
          "output_type": "execute_result",
          "data": {
            "text/plain": [
              "array([[ 0.31093623,  0.21017053,         nan,         nan],\n",
              "       [        nan,  0.17828973,  0.05632114,         nan],\n",
              "       [        nan,         nan, -0.01031259,         nan]])"
            ]
          },
          "metadata": {},
          "execution_count": 537
        }
      ]
    },
    {
      "cell_type": "code",
      "source": [
        "um.get_log2()"
      ],
      "metadata": {
        "colab": {
          "base_uri": "https://localhost:8080/"
        },
        "id": "LMVHOWrJ00iH",
        "outputId": "f0848041-66f3-483c-d23a-9b63f0e0354a"
      },
      "execution_count": 538,
      "outputs": [
        {
          "output_type": "stream",
          "name": "stderr",
          "text": [
            "/usr/local/lib/python3.7/dist-packages/ipykernel_launcher.py:27: RuntimeWarning: invalid value encountered in log2\n"
          ]
        },
        {
          "output_type": "execute_result",
          "data": {
            "text/plain": [
              "array([[ 1.0329078 ,  0.69817138,         nan,         nan],\n",
              "       [        nan,  0.59226567,  0.18709479,         nan],\n",
              "       [        nan,         nan, -0.03425768,         nan]])"
            ]
          },
          "metadata": {},
          "execution_count": 538
        }
      ]
    },
    {
      "cell_type": "code",
      "source": [
        "um.get_log1p()"
      ],
      "metadata": {
        "colab": {
          "base_uri": "https://localhost:8080/"
        },
        "id": "7G4ynH7P0_SE",
        "outputId": "cc42c162-e146-43a9-ff8c-4dbbe69d5a5a"
      },
      "execution_count": 539,
      "outputs": [
        {
          "output_type": "stream",
          "name": "stderr",
          "text": [
            "/usr/local/lib/python3.7/dist-packages/ipykernel_launcher.py:30: RuntimeWarning: invalid value encountered in log1p\n"
          ]
        },
        {
          "output_type": "execute_result",
          "data": {
            "text/plain": [
              "array([[ 1.11387658,  0.96410786,         nan, -0.37398823],\n",
              "       [-0.71167842,  0.91933111,  0.76009007, -1.49570527],\n",
              "       [-0.18581385,         nan,  0.68134485, -0.62748015]])"
            ]
          },
          "metadata": {},
          "execution_count": 539
        }
      ]
    },
    {
      "cell_type": "code",
      "source": [
        "um.get_sign()"
      ],
      "metadata": {
        "colab": {
          "base_uri": "https://localhost:8080/"
        },
        "id": "L0RrqK4Z1C8z",
        "outputId": "8726a447-1e88-4ee3-d3df-b5b7c405160f"
      },
      "execution_count": 540,
      "outputs": [
        {
          "output_type": "execute_result",
          "data": {
            "text/plain": [
              "array([[ 1.,  1., -1., -1.],\n",
              "       [-1.,  1.,  1., -1.],\n",
              "       [-1., -1.,  1., -1.]])"
            ]
          },
          "metadata": {},
          "execution_count": 540
        }
      ]
    },
    {
      "cell_type": "code",
      "source": [
        "um.get_ceil()"
      ],
      "metadata": {
        "colab": {
          "base_uri": "https://localhost:8080/"
        },
        "id": "eKfaaRWk1Rfk",
        "outputId": "6985503e-8a6b-4375-9d44-e0ca170b7a3f"
      },
      "execution_count": 541,
      "outputs": [
        {
          "output_type": "execute_result",
          "data": {
            "text/plain": [
              "array([[ 3.,  2., -1., -0.],\n",
              "       [-0.,  2.,  2., -0.],\n",
              "       [-0., -1.,  1., -0.]])"
            ]
          },
          "metadata": {},
          "execution_count": 541
        }
      ]
    },
    {
      "cell_type": "code",
      "source": [
        "um.get_floor()"
      ],
      "metadata": {
        "colab": {
          "base_uri": "https://localhost:8080/"
        },
        "id": "E0zwfrPl1UcU",
        "outputId": "11939e00-7d7e-4db6-d4b8-f9dad0a792ae"
      },
      "execution_count": 542,
      "outputs": [
        {
          "output_type": "execute_result",
          "data": {
            "text/plain": [
              "array([[ 2.,  1., -2., -1.],\n",
              "       [-1.,  1.,  1., -1.],\n",
              "       [-1., -2.,  0., -1.]])"
            ]
          },
          "metadata": {},
          "execution_count": 542
        }
      ]
    },
    {
      "cell_type": "code",
      "source": [
        "um.get_rint()"
      ],
      "metadata": {
        "colab": {
          "base_uri": "https://localhost:8080/"
        },
        "id": "C_xB58A71Wwk",
        "outputId": "dc2653c2-ca3c-4a39-9023-0a331cd255ce"
      },
      "execution_count": 543,
      "outputs": [
        {
          "output_type": "execute_result",
          "data": {
            "text/plain": [
              "array([[ 2.,  2., -2., -0.],\n",
              "       [-1.,  2.,  1., -1.],\n",
              "       [-0., -1.,  1., -0.]])"
            ]
          },
          "metadata": {},
          "execution_count": 543
        }
      ]
    },
    {
      "cell_type": "code",
      "source": [
        "um.get_modf()"
      ],
      "metadata": {
        "colab": {
          "base_uri": "https://localhost:8080/"
        },
        "id": "tPHEyp4r2Ak8",
        "outputId": "047d6757-552b-494a-f734-9199de42116f"
      },
      "execution_count": 544,
      "outputs": [
        {
          "output_type": "execute_result",
          "data": {
            "text/plain": [
              "(array([[ 0.04614416,  0.62244703, -0.57701317, -0.31201499],\n",
              "        [-0.5091803 ,  0.50761251,  0.13846883, -0.77590949],\n",
              "        [-0.16957183, -0.07922811,  0.9765341 , -0.46606446]]),\n",
              " array([[ 2.,  1., -1., -0.],\n",
              "        [-0.,  1.,  1., -0.],\n",
              "        [-0., -1.,  0., -0.]]))"
            ]
          },
          "metadata": {},
          "execution_count": 544
        }
      ]
    },
    {
      "cell_type": "code",
      "source": [
        "um.get_isnan()"
      ],
      "metadata": {
        "colab": {
          "base_uri": "https://localhost:8080/"
        },
        "id": "mn-dYWSM4BWN",
        "outputId": "4a540584-a8ad-433d-836d-2c0d82cd5be5"
      },
      "execution_count": 545,
      "outputs": [
        {
          "output_type": "execute_result",
          "data": {
            "text/plain": [
              "array([[False, False, False, False],\n",
              "       [False, False, False, False],\n",
              "       [False, False, False, False]])"
            ]
          },
          "metadata": {},
          "execution_count": 545
        }
      ]
    },
    {
      "cell_type": "code",
      "source": [
        "um.get_isfinite()"
      ],
      "metadata": {
        "colab": {
          "base_uri": "https://localhost:8080/"
        },
        "id": "jDs5Hyi24F68",
        "outputId": "43395bcb-c74b-49a0-ff77-8adfa9d4b66a"
      },
      "execution_count": 546,
      "outputs": [
        {
          "output_type": "execute_result",
          "data": {
            "text/plain": [
              "array([[ True,  True,  True,  True],\n",
              "       [ True,  True,  True,  True],\n",
              "       [ True,  True,  True,  True]])"
            ]
          },
          "metadata": {},
          "execution_count": 546
        }
      ]
    },
    {
      "cell_type": "code",
      "source": [
        "um.get_isinf()"
      ],
      "metadata": {
        "colab": {
          "base_uri": "https://localhost:8080/"
        },
        "id": "BOoG4KWS4Q1V",
        "outputId": "45d441b1-0e47-4791-d270-b29bc8a4866b"
      },
      "execution_count": 547,
      "outputs": [
        {
          "output_type": "execute_result",
          "data": {
            "text/plain": [
              "array([[False, False, False, False],\n",
              "       [False, False, False, False],\n",
              "       [False, False, False, False]])"
            ]
          },
          "metadata": {},
          "execution_count": 547
        }
      ]
    },
    {
      "cell_type": "code",
      "source": [
        "um.get_cos()"
      ],
      "metadata": {
        "colab": {
          "base_uri": "https://localhost:8080/"
        },
        "id": "v3ttzjZS4WTl",
        "outputId": "17cddfe6-4aa2-405b-8a83-044a6835d18d"
      },
      "execution_count": 548,
      "outputs": [
        {
          "output_type": "execute_result",
          "data": {
            "text/plain": [
              "array([[-0.45764775, -0.05162775, -0.0062168 ,  0.95171695],\n",
              "       [ 0.87314437,  0.06314179,  0.41898529,  0.71378435],\n",
              "       [ 0.98565712,  0.472009  ,  0.55989762,  0.89334373]])"
            ]
          },
          "metadata": {},
          "execution_count": 548
        }
      ]
    },
    {
      "cell_type": "code",
      "source": [
        "um.get_cosh()"
      ],
      "metadata": {
        "colab": {
          "base_uri": "https://localhost:8080/"
        },
        "id": "eRPKIt6b4bcj",
        "outputId": "fd0a3b36-72dd-4888-cfd2-d490bef18d89"
      },
      "execution_count": 549,
      "outputs": [
        {
          "output_type": "execute_result",
          "data": {
            "text/plain": [
              "array([[3.93361964, 2.63144279, 2.52353387, 1.04907286],\n",
              "       [1.13245736, 2.36868709, 1.72114675, 1.31642607],\n",
              "       [1.01441179, 1.64113261, 1.51592581, 1.11058828]])"
            ]
          },
          "metadata": {},
          "execution_count": 549
        }
      ]
    },
    {
      "cell_type": "code",
      "source": [
        "um.get_sin()"
      ],
      "metadata": {
        "colab": {
          "base_uri": "https://localhost:8080/"
        },
        "id": "jEw9D0I04gGM",
        "outputId": "77a31bdb-0c88-40e6-b106-bc326ee2e478"
      },
      "execution_count": 550,
      "outputs": [
        {
          "output_type": "execute_result",
          "data": {
            "text/plain": [
              "array([[ 0.88913359,  0.9986664 , -0.99998068, -0.30697696],\n",
              "       [-0.48746169,  0.99800457,  0.90799302, -0.70036555],\n",
              "       [-0.16876034, -0.88159373,  0.8285618 , -0.44937398]])"
            ]
          },
          "metadata": {},
          "execution_count": 550
        }
      ]
    },
    {
      "cell_type": "code",
      "source": [
        "um.get_sinh()"
      ],
      "metadata": {
        "colab": {
          "base_uri": "https://localhost:8080/"
        },
        "id": "3JWKw9m-4jX0",
        "outputId": "df477208-c548-42db-a994-e679b08b62e0"
      },
      "execution_count": 551,
      "outputs": [
        {
          "output_type": "execute_result",
          "data": {
            "text/plain": [
              "array([[ 3.80438739,  2.43402776, -2.31694264, -0.31710231],\n",
              "       [-0.53146935,  2.14724906,  1.40083766, -0.8561411 ],\n",
              "       [-0.17038566, -1.30127486,  1.13931166, -0.48312144]])"
            ]
          },
          "metadata": {},
          "execution_count": 551
        }
      ]
    },
    {
      "cell_type": "code",
      "source": [
        "um.get_tan()"
      ],
      "metadata": {
        "colab": {
          "base_uri": "https://localhost:8080/"
        },
        "id": "Pmz1yRIJ4lQ3",
        "outputId": "545d03be-4918-447e-b528-c69e33672629"
      },
      "execution_count": 552,
      "outputs": [
        {
          "output_type": "execute_result",
          "data": {
            "text/plain": [
              "array([[ -1.94283396, -19.34359894, 160.85127034,  -0.32255069],\n",
              "       [ -0.55828304,  15.80577002,   2.16712387,  -0.98120048],\n",
              "       [ -0.17121607,  -1.86774773,   1.47984519,  -0.50302472]])"
            ]
          },
          "metadata": {},
          "execution_count": 552
        }
      ]
    },
    {
      "cell_type": "code",
      "source": [
        "um.get_tanh()"
      ],
      "metadata": {
        "colab": {
          "base_uri": "https://localhost:8080/"
        },
        "id": "gG8kbFQS4n4t",
        "outputId": "ec111140-2606-4642-e66b-7b0250b60b11"
      },
      "execution_count": 553,
      "outputs": [
        {
          "output_type": "execute_result",
          "data": {
            "text/plain": [
              "array([[ 0.96714674,  0.92497841, -0.91813416, -0.3022691 ],\n",
              "       [-0.46930628,  0.90651444,  0.81389786, -0.65035259],\n",
              "       [-0.16796499, -0.79291268,  0.75156162, -0.43501399]])"
            ]
          },
          "metadata": {},
          "execution_count": 553
        }
      ]
    },
    {
      "cell_type": "code",
      "source": [
        "um.get_arccos()"
      ],
      "metadata": {
        "colab": {
          "base_uri": "https://localhost:8080/"
        },
        "id": "ZY-k3pi14wQt",
        "outputId": "aa7028ea-4543-45e2-9bf3-8d1bff07b44c"
      },
      "execution_count": 554,
      "outputs": [
        {
          "output_type": "stream",
          "name": "stderr",
          "text": [
            "/usr/local/lib/python3.7/dist-packages/ipykernel_launcher.py:75: RuntimeWarning: invalid value encountered in arccos\n"
          ]
        },
        {
          "output_type": "execute_result",
          "data": {
            "text/plain": [
              "array([[       nan,        nan,        nan, 1.88810949],\n",
              "       [2.10502844,        nan,        nan, 2.45895186],\n",
              "       [1.74119152,        nan, 0.21706339, 2.05563367]])"
            ]
          },
          "metadata": {},
          "execution_count": 554
        }
      ]
    },
    {
      "cell_type": "code",
      "source": [
        "um.get_arccosh()"
      ],
      "metadata": {
        "colab": {
          "base_uri": "https://localhost:8080/"
        },
        "id": "9G6oKIPA4yN0",
        "outputId": "ae3b9bb5-1596-4b3b-b061-71fef8eaaebb"
      },
      "execution_count": 555,
      "outputs": [
        {
          "output_type": "stream",
          "name": "stderr",
          "text": [
            "/usr/local/lib/python3.7/dist-packages/ipykernel_launcher.py:78: RuntimeWarning: invalid value encountered in arccosh\n"
          ]
        },
        {
          "output_type": "execute_result",
          "data": {
            "text/plain": [
              "array([[1.34319866, 1.06473676,        nan,        nan],\n",
              "       [       nan, 0.96920161, 0.52035798,        nan],\n",
              "       [       nan,        nan,        nan,        nan]])"
            ]
          },
          "metadata": {},
          "execution_count": 555
        }
      ]
    },
    {
      "cell_type": "code",
      "source": [
        "um.get_arcsin()"
      ],
      "metadata": {
        "colab": {
          "base_uri": "https://localhost:8080/"
        },
        "id": "IwqPIAJB40Is",
        "outputId": "effccb89-fc14-4aa6-ea6b-bc65d1dd84ad"
      },
      "execution_count": 556,
      "outputs": [
        {
          "output_type": "stream",
          "name": "stderr",
          "text": [
            "/usr/local/lib/python3.7/dist-packages/ipykernel_launcher.py:81: RuntimeWarning: invalid value encountered in arcsin\n"
          ]
        },
        {
          "output_type": "execute_result",
          "data": {
            "text/plain": [
              "array([[        nan,         nan,         nan, -0.31731316],\n",
              "       [-0.53423211,         nan,         nan, -0.88815553],\n",
              "       [-0.17039519,         nan,  1.35373294, -0.48483735]])"
            ]
          },
          "metadata": {},
          "execution_count": 556
        }
      ]
    },
    {
      "cell_type": "code",
      "source": [
        "um.get_arcsinh()"
      ],
      "metadata": {
        "colab": {
          "base_uri": "https://localhost:8080/"
        },
        "id": "EOEEGHpy4019",
        "outputId": "f0f04a5b-6bf3-433f-b556-69a765b0eb19"
      },
      "execution_count": 557,
      "outputs": [
        {
          "output_type": "execute_result",
          "data": {
            "text/plain": [
              "array([[ 1.46408335,  1.26082054, -1.23673705, -0.3071621 ],\n",
              "       [-0.48940782,  1.19897847,  0.97597799, -0.71374602],\n",
              "       [-0.16876951, -0.93630172,  0.86468297, -0.45065491]])"
            ]
          },
          "metadata": {},
          "execution_count": 557
        }
      ]
    },
    {
      "cell_type": "code",
      "source": [
        "um.get_arctan()"
      ],
      "metadata": {
        "colab": {
          "base_uri": "https://localhost:8080/"
        },
        "id": "FYa7g1Wn42PE",
        "outputId": "d83b3440-e96b-4536-e91c-468b9f50cecb"
      },
      "execution_count": 558,
      "outputs": [
        {
          "output_type": "execute_result",
          "data": {
            "text/plain": [
              "array([[ 1.11621005,  1.0184393 , -1.00567272, -0.30244295],\n",
              "       [-0.47096485,  0.98512783,  0.85005928, -0.65987803],\n",
              "       [-0.16797399, -0.82348432,  0.77352647, -0.43613253]])"
            ]
          },
          "metadata": {},
          "execution_count": 558
        }
      ]
    },
    {
      "cell_type": "code",
      "source": [
        "um.get_arctanh()"
      ],
      "metadata": {
        "colab": {
          "base_uri": "https://localhost:8080/"
        },
        "id": "f8iSyDpI4398",
        "outputId": "934c0856-5ede-4166-ec22-4212b1d9047b"
      },
      "execution_count": 559,
      "outputs": [
        {
          "output_type": "stream",
          "name": "stderr",
          "text": [
            "/usr/local/lib/python3.7/dist-packages/ipykernel_launcher.py:90: RuntimeWarning: invalid value encountered in arctanh\n"
          ]
        },
        {
          "output_type": "execute_result",
          "data": {
            "text/plain": [
              "array([[        nan,         nan,         nan, -0.32277617],\n",
              "       [-0.56162254,         nan,         nan, -1.03500897],\n",
              "       [-0.17122579,         nan,  2.21677582, -0.50503086]])"
            ]
          },
          "metadata": {},
          "execution_count": 559
        }
      ]
    },
    {
      "cell_type": "code",
      "source": [
        "um.get_logical_not()"
      ],
      "metadata": {
        "colab": {
          "base_uri": "https://localhost:8080/"
        },
        "id": "mfPnCPRv4_1E",
        "outputId": "161f8b4f-f2aa-4635-fb6f-e35356fdbc19"
      },
      "execution_count": 560,
      "outputs": [
        {
          "output_type": "execute_result",
          "data": {
            "text/plain": [
              "array([[False, False, False, False],\n",
              "       [False, False, False, False],\n",
              "       [False, False, False, False]])"
            ]
          },
          "metadata": {},
          "execution_count": 560
        }
      ]
    }
  ]
}