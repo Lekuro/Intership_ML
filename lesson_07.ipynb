{
  "nbformat": 4,
  "nbformat_minor": 0,
  "metadata": {
    "colab": {
      "name": "lesson_07.ipynb",
      "provenance": [],
      "collapsed_sections": [],
      "authorship_tag": "ABX9TyMeeRupu960A+8cULceDcCk",
      "include_colab_link": true
    },
    "kernelspec": {
      "name": "python3",
      "display_name": "Python 3"
    },
    "language_info": {
      "name": "python"
    }
  },
  "cells": [
    {
      "cell_type": "markdown",
      "metadata": {
        "id": "view-in-github",
        "colab_type": "text"
      },
      "source": [
        "<a href=\"https://colab.research.google.com/github/Lekuro/Intership_ML/blob/lesson_07_numpy/lesson_07.ipynb\" target=\"_parent\"><img src=\"https://colab.research.google.com/assets/colab-badge.svg\" alt=\"Open In Colab\"/></a>"
      ]
    },
    {
      "cell_type": "code",
      "execution_count": 1098,
      "metadata": {
        "id": "D6f-BTLWN48P"
      },
      "outputs": [],
      "source": [
        "import numpy as np"
      ]
    },
    {
      "cell_type": "code",
      "source": [
        "arr_int=np.random.randint(-100,100, size=(4,5))\n",
        "arr_int"
      ],
      "metadata": {
        "colab": {
          "base_uri": "https://localhost:8080/"
        },
        "id": "Pprua3jERGOc",
        "outputId": "02e37598-3cae-4c00-88fc-1de8c5686dc8"
      },
      "execution_count": 1099,
      "outputs": [
        {
          "output_type": "execute_result",
          "data": {
            "text/plain": [
              "array([[-89,  59, -33, -62,  28],\n",
              "       [ 89, -72,   5, -78, -26],\n",
              "       [-87, -20,  19, -32,  57],\n",
              "       [ 84,  51,  69, -55, -89]])"
            ]
          },
          "metadata": {},
          "execution_count": 1099
        }
      ]
    },
    {
      "cell_type": "code",
      "source": [
        "arr_n=np.random.randn(4,5)"
      ],
      "metadata": {
        "id": "mLha2ePzzcmM"
      },
      "execution_count": 1100,
      "outputs": []
    },
    {
      "cell_type": "code",
      "source": [
        "arr=np.arange(-9,11)\n",
        "arr"
      ],
      "metadata": {
        "colab": {
          "base_uri": "https://localhost:8080/"
        },
        "id": "951lR2EEW2K8",
        "outputId": "febd266c-5b79-4193-a31d-84f1104fe3db"
      },
      "execution_count": 1101,
      "outputs": [
        {
          "output_type": "execute_result",
          "data": {
            "text/plain": [
              "array([-9, -8, -7, -6, -5, -4, -3, -2, -1,  0,  1,  2,  3,  4,  5,  6,  7,\n",
              "        8,  9, 10])"
            ]
          },
          "metadata": {},
          "execution_count": 1101
        }
      ]
    },
    {
      "cell_type": "markdown",
      "source": [
        "# Новий розділ"
      ],
      "metadata": {
        "id": "pgD5Hop3uxIs"
      }
    },
    {
      "cell_type": "code",
      "source": [
        "arr45=arr.reshape(4,5)\n",
        "arr45"
      ],
      "metadata": {
        "colab": {
          "base_uri": "https://localhost:8080/"
        },
        "id": "KeFV42Z4XDUE",
        "outputId": "49a350a4-f18a-4315-c0cf-67cb00bd1c73"
      },
      "execution_count": 1102,
      "outputs": [
        {
          "output_type": "execute_result",
          "data": {
            "text/plain": [
              "array([[-9, -8, -7, -6, -5],\n",
              "       [-4, -3, -2, -1,  0],\n",
              "       [ 1,  2,  3,  4,  5],\n",
              "       [ 6,  7,  8,  9, 10]])"
            ]
          },
          "metadata": {},
          "execution_count": 1102
        }
      ]
    },
    {
      "cell_type": "code",
      "source": [
        "arr45.shape"
      ],
      "metadata": {
        "colab": {
          "base_uri": "https://localhost:8080/"
        },
        "id": "Vqiy1My-YD4F",
        "outputId": "3ef1fdb5-934c-4502-b865-36e2b087f35e"
      },
      "execution_count": 1103,
      "outputs": [
        {
          "output_type": "execute_result",
          "data": {
            "text/plain": [
              "(4, 5)"
            ]
          },
          "metadata": {},
          "execution_count": 1103
        }
      ]
    },
    {
      "cell_type": "code",
      "source": [
        "arr_copy=np.copy(arr45[:3,:4])\n",
        "arr_copy"
      ],
      "metadata": {
        "colab": {
          "base_uri": "https://localhost:8080/"
        },
        "id": "AkRREY4vR2fl",
        "outputId": "c9ee049b-3de7-4a26-863c-ca486dbcd767"
      },
      "execution_count": 1104,
      "outputs": [
        {
          "output_type": "execute_result",
          "data": {
            "text/plain": [
              "array([[-9, -8, -7, -6],\n",
              "       [-4, -3, -2, -1],\n",
              "       [ 1,  2,  3,  4]])"
            ]
          },
          "metadata": {},
          "execution_count": 1104
        }
      ]
    },
    {
      "cell_type": "code",
      "source": [
        "arr_copy[2:]=0\n",
        "arr_copy[:,3:]=0\n",
        "arr_copy"
      ],
      "metadata": {
        "colab": {
          "base_uri": "https://localhost:8080/"
        },
        "id": "cyTnYiiqZTit",
        "outputId": "f9157d15-91a7-4422-9c97-de3f226c04c2"
      },
      "execution_count": 1105,
      "outputs": [
        {
          "output_type": "execute_result",
          "data": {
            "text/plain": [
              "array([[-9, -8, -7,  0],\n",
              "       [-4, -3, -2,  0],\n",
              "       [ 0,  0,  0,  0]])"
            ]
          },
          "metadata": {},
          "execution_count": 1105
        }
      ]
    },
    {
      "cell_type": "code",
      "source": [
        "arr_copy[:2,:3]"
      ],
      "metadata": {
        "colab": {
          "base_uri": "https://localhost:8080/"
        },
        "id": "6sDZdAhWxGd1",
        "outputId": "f66d6e0a-ba99-40d3-acf0-474d529e6b0a"
      },
      "execution_count": 1106,
      "outputs": [
        {
          "output_type": "execute_result",
          "data": {
            "text/plain": [
              "array([[-9, -8, -7],\n",
              "       [-4, -3, -2]])"
            ]
          },
          "metadata": {},
          "execution_count": 1106
        }
      ]
    },
    {
      "cell_type": "code",
      "source": [
        "arr45"
      ],
      "metadata": {
        "colab": {
          "base_uri": "https://localhost:8080/"
        },
        "id": "Ps9zt_y3aSxt",
        "outputId": "5dc98bc8-a144-4b9b-af21-22d29239f1d8"
      },
      "execution_count": 1107,
      "outputs": [
        {
          "output_type": "execute_result",
          "data": {
            "text/plain": [
              "array([[-9, -8, -7, -6, -5],\n",
              "       [-4, -3, -2, -1,  0],\n",
              "       [ 1,  2,  3,  4,  5],\n",
              "       [ 6,  7,  8,  9, 10]])"
            ]
          },
          "metadata": {},
          "execution_count": 1107
        }
      ]
    },
    {
      "cell_type": "code",
      "source": [
        "arr451=arr45[..., np.newaxis]\n",
        "arr451"
      ],
      "metadata": {
        "colab": {
          "base_uri": "https://localhost:8080/"
        },
        "id": "lBUmyZmlGUjG",
        "outputId": "e47b174f-c60c-4e60-fdff-38f3c015826d"
      },
      "execution_count": 1108,
      "outputs": [
        {
          "output_type": "execute_result",
          "data": {
            "text/plain": [
              "array([[[-9],\n",
              "        [-8],\n",
              "        [-7],\n",
              "        [-6],\n",
              "        [-5]],\n",
              "\n",
              "       [[-4],\n",
              "        [-3],\n",
              "        [-2],\n",
              "        [-1],\n",
              "        [ 0]],\n",
              "\n",
              "       [[ 1],\n",
              "        [ 2],\n",
              "        [ 3],\n",
              "        [ 4],\n",
              "        [ 5]],\n",
              "\n",
              "       [[ 6],\n",
              "        [ 7],\n",
              "        [ 8],\n",
              "        [ 9],\n",
              "        [10]]])"
            ]
          },
          "metadata": {},
          "execution_count": 1108
        }
      ]
    },
    {
      "cell_type": "code",
      "source": [
        "arr451.shape"
      ],
      "metadata": {
        "colab": {
          "base_uri": "https://localhost:8080/"
        },
        "id": "JCyTLH0GbS71",
        "outputId": "327eaa30-d2c7-4b21-86f0-192205b16445"
      },
      "execution_count": 1109,
      "outputs": [
        {
          "output_type": "execute_result",
          "data": {
            "text/plain": [
              "(4, 5, 1)"
            ]
          },
          "metadata": {},
          "execution_count": 1109
        }
      ]
    },
    {
      "cell_type": "markdown",
      "source": [
        "https://note.nkmk.me/en/python-numpy-newaxis/"
      ],
      "metadata": {
        "id": "nACRqZu2hqbH"
      }
    },
    {
      "cell_type": "code",
      "source": [
        "class UnaryMethods:\n",
        "  def __init__(self,arr2d,slice_list=[],copy_number=1):\n",
        "    slice_data=slice_list if slice_list else arr2d.shape\n",
        "    # self.arr2d=np.copy(arr2d[:slice_data[0],:slice_data[1]])\n",
        "    self.arr2d=arr2d[:slice_data[0],:slice_data[1]]\n",
        "    self.copy=copy_number\n",
        "    self.arr3d=None\n",
        "\n",
        "  def repeat(self):\n",
        "    if self.arr3d and self.arr3d.shape==self.copy:\n",
        "      return self.arr3d\n",
        "    # self.arr3d=self.arr2d[...,np.newaxis]\n",
        "    # self.arr3d= np.repeat(self.arr3d,self.copy, axis=2)\n",
        "    self.arr3d=self.arr2d[np.newaxis]\n",
        "    self.arr3d= np.repeat(self.arr3d,self.copy, axis=0)\n",
        "    return self.arr3d\n",
        "\n",
        "  def get_abs(self):\n",
        "    return np.abs(self.arr2d)\n",
        "\n",
        "  def get_sqrt(self):\n",
        "    return np.sqrt(self.arr2d)\n",
        "\n",
        "  def get_square(self):\n",
        "    return np.square(self.arr2d)\n",
        "\n",
        "  def get_exp(self):\n",
        "    return np.exp(self.arr2d)\n",
        "\n",
        "  def get_log(self):\n",
        "    return np.log(self.arr2d)\n",
        "\n",
        "  def get_log10(self):\n",
        "    return np.log10(self.arr2d)\n",
        "\n",
        "  def get_log2(self):\n",
        "    return np.log2(self.arr2d)\n",
        "\n",
        "  def get_log1p(self):\n",
        "    return np.log1p(self.arr2d)\n",
        "\n",
        "  def get_sign(self):\n",
        "    return np.sign(self.arr2d)\n",
        "\n",
        "  def get_ceil(self):\n",
        "    return np.ceil(self.arr2d)\n",
        "\n",
        "  def get_floor(self):\n",
        "    return np.floor(self.arr2d)\n",
        "\n",
        "  def get_rint(self):\n",
        "    return np.rint(self.arr2d)\n",
        "\n",
        "  def get_modf(self):\n",
        "    return np.modf(self.arr2d)\n",
        "\n",
        "  def get_isnan(self):\n",
        "    return np.isnan(self.arr2d)\n",
        "\n",
        "  def get_isfinite(self):\n",
        "    return np.isfinite(self.arr2d)\n",
        "\n",
        "  def get_isinf(self):\n",
        "    return np.isinf(self.arr2d)\n",
        "\n",
        "  def get_cos(self):\n",
        "    return np.cos(self.arr2d)\n",
        "\n",
        "  def get_cosh(self):\n",
        "    return np.cosh(self.arr2d)\n",
        "\n",
        "  def get_sin(self):\n",
        "    return np.sin(self.arr2d)\n",
        "\n",
        "  def get_sinh(self):\n",
        "    return np.sinh(self.arr2d)\n",
        "\n",
        "  def get_tan(self):\n",
        "    return np.tan(self.arr2d)\n",
        "\n",
        "  def get_tanh(self):\n",
        "    return np.tanh(self.arr2d)\n",
        "\n",
        "  def get_arccos(self):\n",
        "    return np.arccos(self.arr2d)\n",
        "\n",
        "  def get_arccosh(self):\n",
        "    return np.arccosh(self.arr2d)\n",
        "\n",
        "  def get_arcsin(self):\n",
        "    return np.arcsin(self.arr2d)\n",
        "\n",
        "  def get_arcsinh(self):\n",
        "    return np.arcsinh(self.arr2d)\n",
        "\n",
        "  def get_arctan(self):\n",
        "    return np.arctan(self.arr2d)\n",
        "\n",
        "  def get_arctanh(self):\n",
        "    return np.arctanh(self.arr2d)\n",
        "\n",
        "  def get_logical_not(self):\n",
        "    return np.logical_not(self.arr2d)"
      ],
      "metadata": {
        "id": "nacnnUxtRWIC"
      },
      "execution_count": 1110,
      "outputs": []
    },
    {
      "cell_type": "code",
      "source": [
        "um=UnaryMethods(arr_n,(3,4),2)\n",
        "um.arr2d"
      ],
      "metadata": {
        "colab": {
          "base_uri": "https://localhost:8080/"
        },
        "id": "a7Av2jQPhsLj",
        "outputId": "c740796f-0174-4d6f-883a-e8169aeafd42"
      },
      "execution_count": 1111,
      "outputs": [
        {
          "output_type": "execute_result",
          "data": {
            "text/plain": [
              "array([[-0.70613987, -1.01219579,  0.64659061,  0.92967054],\n",
              "       [-2.29703011, -0.42190494, -0.65872426, -0.36755113],\n",
              "       [-0.03204249,  0.60382343,  0.19912054,  0.64332323]])"
            ]
          },
          "metadata": {},
          "execution_count": 1111
        }
      ]
    },
    {
      "cell_type": "code",
      "source": [
        "um.repeat()"
      ],
      "metadata": {
        "colab": {
          "base_uri": "https://localhost:8080/"
        },
        "id": "_q9gH4af8_gu",
        "outputId": "d24bb8de-122f-4474-a935-5756a1bb9bbe"
      },
      "execution_count": 1112,
      "outputs": [
        {
          "output_type": "execute_result",
          "data": {
            "text/plain": [
              "array([[[-0.70613987, -1.01219579,  0.64659061,  0.92967054],\n",
              "        [-2.29703011, -0.42190494, -0.65872426, -0.36755113],\n",
              "        [-0.03204249,  0.60382343,  0.19912054,  0.64332323]],\n",
              "\n",
              "       [[-0.70613987, -1.01219579,  0.64659061,  0.92967054],\n",
              "        [-2.29703011, -0.42190494, -0.65872426, -0.36755113],\n",
              "        [-0.03204249,  0.60382343,  0.19912054,  0.64332323]]])"
            ]
          },
          "metadata": {},
          "execution_count": 1112
        }
      ]
    },
    {
      "cell_type": "code",
      "source": [
        "um.arr3d.shape"
      ],
      "metadata": {
        "colab": {
          "base_uri": "https://localhost:8080/"
        },
        "id": "NSpqKtpLcWeN",
        "outputId": "693a840c-6753-4805-ec3c-5cb985e7a1c9"
      },
      "execution_count": 1113,
      "outputs": [
        {
          "output_type": "execute_result",
          "data": {
            "text/plain": [
              "(2, 3, 4)"
            ]
          },
          "metadata": {},
          "execution_count": 1113
        }
      ]
    },
    {
      "cell_type": "code",
      "source": [
        "um.get_abs()"
      ],
      "metadata": {
        "colab": {
          "base_uri": "https://localhost:8080/"
        },
        "id": "yQPZqNW_lvlG",
        "outputId": "456585de-b7a3-4fe0-8582-72071f6bc70e"
      },
      "execution_count": 1114,
      "outputs": [
        {
          "output_type": "execute_result",
          "data": {
            "text/plain": [
              "array([[0.70613987, 1.01219579, 0.64659061, 0.92967054],\n",
              "       [2.29703011, 0.42190494, 0.65872426, 0.36755113],\n",
              "       [0.03204249, 0.60382343, 0.19912054, 0.64332323]])"
            ]
          },
          "metadata": {},
          "execution_count": 1114
        }
      ]
    },
    {
      "cell_type": "code",
      "source": [
        "um.get_square()"
      ],
      "metadata": {
        "colab": {
          "base_uri": "https://localhost:8080/"
        },
        "id": "-t4tCuMatIu1",
        "outputId": "d4f3402a-b844-4ba5-8381-d7c5deb33f79"
      },
      "execution_count": 1115,
      "outputs": [
        {
          "output_type": "execute_result",
          "data": {
            "text/plain": [
              "array([[4.98633511e-01, 1.02454031e+00, 4.18079422e-01, 8.64287318e-01],\n",
              "       [5.27634734e+00, 1.78003777e-01, 4.33917650e-01, 1.35093833e-01],\n",
              "       [1.02672096e-03, 3.64602737e-01, 3.96489911e-02, 4.13864781e-01]])"
            ]
          },
          "metadata": {},
          "execution_count": 1115
        }
      ]
    },
    {
      "cell_type": "code",
      "source": [
        "um.get_sqrt()"
      ],
      "metadata": {
        "colab": {
          "base_uri": "https://localhost:8080/"
        },
        "id": "aTiCr7aantK7",
        "outputId": "5942dff5-9ee6-4837-8409-1f8198677ed0"
      },
      "execution_count": 1116,
      "outputs": [
        {
          "output_type": "stream",
          "name": "stderr",
          "text": [
            "/usr/local/lib/python3.7/dist-packages/ipykernel_launcher.py:22: RuntimeWarning: invalid value encountered in sqrt\n"
          ]
        },
        {
          "output_type": "execute_result",
          "data": {
            "text/plain": [
              "array([[       nan,        nan, 0.80410858, 0.96419425],\n",
              "       [       nan,        nan,        nan,        nan],\n",
              "       [       nan, 0.77706076, 0.44622925, 0.80207433]])"
            ]
          },
          "metadata": {},
          "execution_count": 1116
        }
      ]
    },
    {
      "cell_type": "code",
      "source": [
        "um.get_exp()"
      ],
      "metadata": {
        "colab": {
          "base_uri": "https://localhost:8080/"
        },
        "id": "z332ntkLnerN",
        "outputId": "b8c4056c-be50-4f99-deef-2637d9d3714e"
      },
      "execution_count": 1117,
      "outputs": [
        {
          "output_type": "execute_result",
          "data": {
            "text/plain": [
              "array([[0.49354568, 0.36342011, 1.90902113, 2.5336743 ],\n",
              "       [0.10055704, 0.65579638, 0.51751112, 0.69242792],\n",
              "       [0.96846543, 1.82909888, 1.22032906, 1.90279381]])"
            ]
          },
          "metadata": {},
          "execution_count": 1117
        }
      ]
    },
    {
      "cell_type": "code",
      "source": [
        "um.get_log()"
      ],
      "metadata": {
        "colab": {
          "base_uri": "https://localhost:8080/"
        },
        "id": "jDOvD4iDpGbc",
        "outputId": "78d043a1-5af5-4995-83f3-c631c9c60788"
      },
      "execution_count": 1118,
      "outputs": [
        {
          "output_type": "stream",
          "name": "stderr",
          "text": [
            "/usr/local/lib/python3.7/dist-packages/ipykernel_launcher.py:31: RuntimeWarning: invalid value encountered in log\n"
          ]
        },
        {
          "output_type": "execute_result",
          "data": {
            "text/plain": [
              "array([[        nan,         nan, -0.43604193, -0.07292501],\n",
              "       [        nan,         nan,         nan,         nan],\n",
              "       [        nan, -0.50447346, -1.61384489, -0.44110799]])"
            ]
          },
          "metadata": {},
          "execution_count": 1118
        }
      ]
    },
    {
      "cell_type": "code",
      "source": [
        "um.get_log10()"
      ],
      "metadata": {
        "colab": {
          "base_uri": "https://localhost:8080/"
        },
        "id": "lDRnNPzmycxu",
        "outputId": "030156a2-55a9-4a58-9541-81bc9c0e8557"
      },
      "execution_count": 1119,
      "outputs": [
        {
          "output_type": "stream",
          "name": "stderr",
          "text": [
            "/usr/local/lib/python3.7/dist-packages/ipykernel_launcher.py:34: RuntimeWarning: invalid value encountered in log10\n"
          ]
        },
        {
          "output_type": "execute_result",
          "data": {
            "text/plain": [
              "array([[        nan,         nan, -0.1893706 , -0.03167093],\n",
              "       [        nan,         nan,         nan,         nan],\n",
              "       [        nan, -0.21909004, -0.70088393, -0.19157077]])"
            ]
          },
          "metadata": {},
          "execution_count": 1119
        }
      ]
    },
    {
      "cell_type": "code",
      "source": [
        "um.get_log2()"
      ],
      "metadata": {
        "colab": {
          "base_uri": "https://localhost:8080/"
        },
        "id": "LMVHOWrJ00iH",
        "outputId": "3c9ee100-22b8-42bc-c463-c8d23e974cfe"
      },
      "execution_count": 1120,
      "outputs": [
        {
          "output_type": "stream",
          "name": "stderr",
          "text": [
            "/usr/local/lib/python3.7/dist-packages/ipykernel_launcher.py:37: RuntimeWarning: invalid value encountered in log2\n"
          ]
        },
        {
          "output_type": "execute_result",
          "data": {
            "text/plain": [
              "array([[        nan,         nan, -0.62907553, -0.10520855],\n",
              "       [        nan,         nan,         nan,         nan],\n",
              "       [        nan, -0.72780135, -2.32828602, -0.63638431]])"
            ]
          },
          "metadata": {},
          "execution_count": 1120
        }
      ]
    },
    {
      "cell_type": "code",
      "source": [
        "um.get_log1p()"
      ],
      "metadata": {
        "colab": {
          "base_uri": "https://localhost:8080/"
        },
        "id": "7G4ynH7P0_SE",
        "outputId": "929cb50b-dda0-4db2-9ab7-0506a276d7c6"
      },
      "execution_count": 1121,
      "outputs": [
        {
          "output_type": "stream",
          "name": "stderr",
          "text": [
            "/usr/local/lib/python3.7/dist-packages/ipykernel_launcher.py:40: RuntimeWarning: invalid value encountered in log1p\n"
          ]
        },
        {
          "output_type": "execute_result",
          "data": {
            "text/plain": [
              "array([[-1.22465136,         nan,  0.49870686,  0.65734929],\n",
              "       [        nan, -0.54801696, -1.0750645 , -0.4581559 ],\n",
              "       [-0.03256708,  0.47239042,  0.18158841,  0.49672055]])"
            ]
          },
          "metadata": {},
          "execution_count": 1121
        }
      ]
    },
    {
      "cell_type": "code",
      "source": [
        "um.get_sign()"
      ],
      "metadata": {
        "colab": {
          "base_uri": "https://localhost:8080/"
        },
        "id": "L0RrqK4Z1C8z",
        "outputId": "4baf2911-cd93-4268-e047-78639d108102"
      },
      "execution_count": 1122,
      "outputs": [
        {
          "output_type": "execute_result",
          "data": {
            "text/plain": [
              "array([[-1., -1.,  1.,  1.],\n",
              "       [-1., -1., -1., -1.],\n",
              "       [-1.,  1.,  1.,  1.]])"
            ]
          },
          "metadata": {},
          "execution_count": 1122
        }
      ]
    },
    {
      "cell_type": "code",
      "source": [
        "um.get_ceil()"
      ],
      "metadata": {
        "colab": {
          "base_uri": "https://localhost:8080/"
        },
        "id": "eKfaaRWk1Rfk",
        "outputId": "03a9d1e6-3f3c-4dbb-d86c-8d87d2712b87"
      },
      "execution_count": 1123,
      "outputs": [
        {
          "output_type": "execute_result",
          "data": {
            "text/plain": [
              "array([[-0., -1.,  1.,  1.],\n",
              "       [-2., -0., -0., -0.],\n",
              "       [-0.,  1.,  1.,  1.]])"
            ]
          },
          "metadata": {},
          "execution_count": 1123
        }
      ]
    },
    {
      "cell_type": "code",
      "source": [
        "um.get_floor()"
      ],
      "metadata": {
        "colab": {
          "base_uri": "https://localhost:8080/"
        },
        "id": "E0zwfrPl1UcU",
        "outputId": "6d5faec0-0236-4ce4-e7e4-ba669c3883ff"
      },
      "execution_count": 1124,
      "outputs": [
        {
          "output_type": "execute_result",
          "data": {
            "text/plain": [
              "array([[-1., -2.,  0.,  0.],\n",
              "       [-3., -1., -1., -1.],\n",
              "       [-1.,  0.,  0.,  0.]])"
            ]
          },
          "metadata": {},
          "execution_count": 1124
        }
      ]
    },
    {
      "cell_type": "code",
      "source": [
        "um.get_rint()"
      ],
      "metadata": {
        "colab": {
          "base_uri": "https://localhost:8080/"
        },
        "id": "C_xB58A71Wwk",
        "outputId": "e24cbbf2-e787-4f08-8d85-414de4ac804f"
      },
      "execution_count": 1125,
      "outputs": [
        {
          "output_type": "execute_result",
          "data": {
            "text/plain": [
              "array([[-1., -1.,  1.,  1.],\n",
              "       [-2., -0., -1., -0.],\n",
              "       [-0.,  1.,  0.,  1.]])"
            ]
          },
          "metadata": {},
          "execution_count": 1125
        }
      ]
    },
    {
      "cell_type": "code",
      "source": [
        "um.get_modf()"
      ],
      "metadata": {
        "colab": {
          "base_uri": "https://localhost:8080/"
        },
        "id": "tPHEyp4r2Ak8",
        "outputId": "249a643f-d6b2-4017-a6cd-ba250c369a21"
      },
      "execution_count": 1126,
      "outputs": [
        {
          "output_type": "execute_result",
          "data": {
            "text/plain": [
              "(array([[-0.70613987, -0.01219579,  0.64659061,  0.92967054],\n",
              "        [-0.29703011, -0.42190494, -0.65872426, -0.36755113],\n",
              "        [-0.03204249,  0.60382343,  0.19912054,  0.64332323]]),\n",
              " array([[-0., -1.,  0.,  0.],\n",
              "        [-2., -0., -0., -0.],\n",
              "        [-0.,  0.,  0.,  0.]]))"
            ]
          },
          "metadata": {},
          "execution_count": 1126
        }
      ]
    },
    {
      "cell_type": "code",
      "source": [
        "um.get_isnan()"
      ],
      "metadata": {
        "colab": {
          "base_uri": "https://localhost:8080/"
        },
        "id": "mn-dYWSM4BWN",
        "outputId": "fcdfb58b-7c86-4afd-a8d0-982f03bdeaa9"
      },
      "execution_count": 1127,
      "outputs": [
        {
          "output_type": "execute_result",
          "data": {
            "text/plain": [
              "array([[False, False, False, False],\n",
              "       [False, False, False, False],\n",
              "       [False, False, False, False]])"
            ]
          },
          "metadata": {},
          "execution_count": 1127
        }
      ]
    },
    {
      "cell_type": "code",
      "source": [
        "um.get_isfinite()"
      ],
      "metadata": {
        "colab": {
          "base_uri": "https://localhost:8080/"
        },
        "id": "jDs5Hyi24F68",
        "outputId": "cdd7d377-0ea9-4dc7-94ab-a77c7f026ef9"
      },
      "execution_count": 1128,
      "outputs": [
        {
          "output_type": "execute_result",
          "data": {
            "text/plain": [
              "array([[ True,  True,  True,  True],\n",
              "       [ True,  True,  True,  True],\n",
              "       [ True,  True,  True,  True]])"
            ]
          },
          "metadata": {},
          "execution_count": 1128
        }
      ]
    },
    {
      "cell_type": "code",
      "source": [
        "um.get_isinf()"
      ],
      "metadata": {
        "colab": {
          "base_uri": "https://localhost:8080/"
        },
        "id": "BOoG4KWS4Q1V",
        "outputId": "e4b11628-e0de-4b51-ddcb-8a68281fcbfe"
      },
      "execution_count": 1129,
      "outputs": [
        {
          "output_type": "execute_result",
          "data": {
            "text/plain": [
              "array([[False, False, False, False],\n",
              "       [False, False, False, False],\n",
              "       [False, False, False, False]])"
            ]
          },
          "metadata": {},
          "execution_count": 1129
        }
      ]
    },
    {
      "cell_type": "code",
      "source": [
        "um.get_cos()"
      ],
      "metadata": {
        "colab": {
          "base_uri": "https://localhost:8080/"
        },
        "id": "v3ttzjZS4WTl",
        "outputId": "6b74dad0-e4cf-46d4-dcbf-b985fb06fe59"
      },
      "execution_count": 1130,
      "outputs": [
        {
          "output_type": "execute_result",
          "data": {
            "text/plain": [
              "array([[ 0.76087239,  0.52999998,  0.79814248,  0.59809805],\n",
              "       [-0.66405843,  0.91231053,  0.79077377,  0.9332101 ],\n",
              "       [ 0.99948668,  0.82317072,  0.98024092,  0.80010671]])"
            ]
          },
          "metadata": {},
          "execution_count": 1130
        }
      ]
    },
    {
      "cell_type": "code",
      "source": [
        "um.get_cosh()"
      ],
      "metadata": {
        "colab": {
          "base_uri": "https://localhost:8080/"
        },
        "id": "eRPKIt6b4bcj",
        "outputId": "01071f9b-7436-4c64-88fd-675b7a780ff6"
      },
      "execution_count": 1131,
      "outputs": [
        {
          "output_type": "execute_result",
          "data": {
            "text/plain": [
              "array([[1.2598503 , 1.55752825, 1.2164249 , 1.46417901],\n",
              "       [5.02258063, 1.09032997, 1.22491837, 1.06831078],\n",
              "       [1.0005134 , 1.18790809, 1.01989008, 1.21416841]])"
            ]
          },
          "metadata": {},
          "execution_count": 1131
        }
      ]
    },
    {
      "cell_type": "code",
      "source": [
        "um.get_sin()"
      ],
      "metadata": {
        "colab": {
          "base_uri": "https://localhost:8080/"
        },
        "id": "jEw9D0I04gGM",
        "outputId": "24a930db-2ce0-4e8f-eec3-4cd78d27a52c"
      },
      "execution_count": 1132,
      "outputs": [
        {
          "output_type": "execute_result",
          "data": {
            "text/plain": [
              "array([[-0.64890154, -0.84799765,  0.60246874,  0.80142294],\n",
              "       [-0.74768068, -0.40949909, -0.61210853, -0.3593312 ],\n",
              "       [-0.032037  ,  0.56779395,  0.19780733,  0.59985769]])"
            ]
          },
          "metadata": {},
          "execution_count": 1132
        }
      ]
    },
    {
      "cell_type": "code",
      "source": [
        "um.get_sinh()"
      ],
      "metadata": {
        "colab": {
          "base_uri": "https://localhost:8080/"
        },
        "id": "3JWKw9m-4jX0",
        "outputId": "602f79fd-ebfe-468e-967c-04812ddeda2f"
      },
      "execution_count": 1133,
      "outputs": [
        {
          "output_type": "execute_result",
          "data": {
            "text/plain": [
              "array([[-0.76630462, -1.19410814,  0.69259623,  1.06949529],\n",
              "       [-4.92202358, -0.43453359, -0.70740725, -0.37588286],\n",
              "       [-0.03204797,  0.64119079,  0.20043898,  0.6886254 ]])"
            ]
          },
          "metadata": {},
          "execution_count": 1133
        }
      ]
    },
    {
      "cell_type": "code",
      "source": [
        "um.get_tan()"
      ],
      "metadata": {
        "colab": {
          "base_uri": "https://localhost:8080/"
        },
        "id": "Pmz1yRIJ4lQ3",
        "outputId": "b96c533d-7c0d-46fb-e65a-b3d15ca5238e"
      },
      "execution_count": 1134,
      "outputs": [
        {
          "output_type": "execute_result",
          "data": {
            "text/plain": [
              "array([[-0.85283887, -1.59999564,  0.75483858,  1.33995243],\n",
              "       [ 1.12592606, -0.44885933, -0.77406276, -0.38504856],\n",
              "       [-0.03205346,  0.68976452,  0.2017946 ,  0.7497221 ]])"
            ]
          },
          "metadata": {},
          "execution_count": 1134
        }
      ]
    },
    {
      "cell_type": "code",
      "source": [
        "um.get_tanh()"
      ],
      "metadata": {
        "colab": {
          "base_uri": "https://localhost:8080/"
        },
        "id": "gG8kbFQS4n4t",
        "outputId": "02755079-35fa-4d70-beb3-ed37c6fe9261"
      },
      "execution_count": 1135,
      "outputs": [
        {
          "output_type": "execute_result",
          "data": {
            "text/plain": [
              "array([[-0.60825054, -0.76666869,  0.56937032,  0.73044026],\n",
              "       [-0.97997901, -0.39853403, -0.57751379, -0.35184786],\n",
              "       [-0.03203153,  0.53976465,  0.19652998,  0.56715805]])"
            ]
          },
          "metadata": {},
          "execution_count": 1135
        }
      ]
    },
    {
      "cell_type": "code",
      "source": [
        "um.get_arccos()"
      ],
      "metadata": {
        "colab": {
          "base_uri": "https://localhost:8080/"
        },
        "id": "ZY-k3pi14wQt",
        "outputId": "bea9b031-6122-4e21-8db7-68d74ef9e075"
      },
      "execution_count": 1136,
      "outputs": [
        {
          "output_type": "stream",
          "name": "stderr",
          "text": [
            "/usr/local/lib/python3.7/dist-packages/ipykernel_launcher.py:85: RuntimeWarning: invalid value encountered in arccos\n"
          ]
        },
        {
          "output_type": "execute_result",
          "data": {
            "text/plain": [
              "array([[2.354828  ,        nan, 0.86768975, 0.37727881],\n",
              "       [       nan, 2.00634172, 2.28991823, 1.94717079],\n",
              "       [1.6028443 , 0.92250731, 1.37033591, 0.87196522]])"
            ]
          },
          "metadata": {},
          "execution_count": 1136
        }
      ]
    },
    {
      "cell_type": "code",
      "source": [
        "um.get_arccosh()"
      ],
      "metadata": {
        "colab": {
          "base_uri": "https://localhost:8080/"
        },
        "id": "9G6oKIPA4yN0",
        "outputId": "cb011717-886f-486d-cf8c-9838c62fd089"
      },
      "execution_count": 1137,
      "outputs": [
        {
          "output_type": "stream",
          "name": "stderr",
          "text": [
            "/usr/local/lib/python3.7/dist-packages/ipykernel_launcher.py:88: RuntimeWarning: invalid value encountered in arccosh\n"
          ]
        },
        {
          "output_type": "execute_result",
          "data": {
            "text/plain": [
              "array([[nan, nan, nan, nan],\n",
              "       [nan, nan, nan, nan],\n",
              "       [nan, nan, nan, nan]])"
            ]
          },
          "metadata": {},
          "execution_count": 1137
        }
      ]
    },
    {
      "cell_type": "code",
      "source": [
        "um.get_arcsin()"
      ],
      "metadata": {
        "colab": {
          "base_uri": "https://localhost:8080/"
        },
        "id": "IwqPIAJB40Is",
        "outputId": "4bb9a22a-c767-49c1-afbb-934f0b8e382c"
      },
      "execution_count": 1138,
      "outputs": [
        {
          "output_type": "stream",
          "name": "stderr",
          "text": [
            "/usr/local/lib/python3.7/dist-packages/ipykernel_launcher.py:91: RuntimeWarning: invalid value encountered in arcsin\n"
          ]
        },
        {
          "output_type": "execute_result",
          "data": {
            "text/plain": [
              "array([[-0.78403167,         nan,  0.70310657,  1.19351752],\n",
              "       [        nan, -0.43554539, -0.7191219 , -0.37637446],\n",
              "       [-0.03204797,  0.64828901,  0.20046041,  0.69883111]])"
            ]
          },
          "metadata": {},
          "execution_count": 1138
        }
      ]
    },
    {
      "cell_type": "code",
      "source": [
        "um.get_arcsinh()"
      ],
      "metadata": {
        "colab": {
          "base_uri": "https://localhost:8080/"
        },
        "id": "EOEEGHpy4019",
        "outputId": "609e1957-5055-45db-f518-2c297d4e1687"
      },
      "execution_count": 1139,
      "outputs": [
        {
          "output_type": "execute_result",
          "data": {
            "text/plain": [
              "array([[-0.65768929, -0.88997107,  0.60836351,  0.83075882],\n",
              "       [-1.56909373, -0.41029593, -0.61852453, -0.35974151],\n",
              "       [-0.03203701,  0.5721007 ,  0.19782766,  0.60561768]])"
            ]
          },
          "metadata": {},
          "execution_count": 1139
        }
      ]
    },
    {
      "cell_type": "code",
      "source": [
        "um.get_arctan()"
      ],
      "metadata": {
        "colab": {
          "base_uri": "https://localhost:8080/"
        },
        "id": "FYa7g1Wn42PE",
        "outputId": "475823bc-822f-4955-e8cd-d22f33d4baad"
      },
      "execution_count": 1140,
      "outputs": [
        {
          "output_type": "execute_result",
          "data": {
            "text/plain": [
              "array([[-0.6148348 , -0.79145902,  0.57397473,  0.74896793],\n",
              "       [-1.16019631, -0.39924618, -0.58248384, -0.35222422],\n",
              "       [-0.03203153,  0.54322611,  0.19654979,  0.57166721]])"
            ]
          },
          "metadata": {},
          "execution_count": 1140
        }
      ]
    },
    {
      "cell_type": "code",
      "source": [
        "um.get_arctanh()"
      ],
      "metadata": {
        "colab": {
          "base_uri": "https://localhost:8080/"
        },
        "id": "f8iSyDpI4398",
        "outputId": "2be3f02e-f5a4-44ba-bb0f-5abe3997ff6b"
      },
      "execution_count": 1141,
      "outputs": [
        {
          "output_type": "stream",
          "name": "stderr",
          "text": [
            "/usr/local/lib/python3.7/dist-packages/ipykernel_launcher.py:100: RuntimeWarning: invalid value encountered in arctanh\n"
          ]
        },
        {
          "output_type": "execute_result",
          "data": {
            "text/plain": [
              "array([[-0.8794424 ,         nan,  0.76941751,  1.65595692],\n",
              "       [        nan, -0.45000722, -0.79055665, -0.38558877],\n",
              "       [-0.03205346,  0.69914286,  0.20181662,  0.76382294]])"
            ]
          },
          "metadata": {},
          "execution_count": 1141
        }
      ]
    },
    {
      "cell_type": "code",
      "source": [
        "um.get_logical_not()"
      ],
      "metadata": {
        "colab": {
          "base_uri": "https://localhost:8080/"
        },
        "id": "mfPnCPRv4_1E",
        "outputId": "38cc193f-a1a6-405b-bd74-cfc33b3ce774"
      },
      "execution_count": 1142,
      "outputs": [
        {
          "output_type": "execute_result",
          "data": {
            "text/plain": [
              "array([[False, False, False, False],\n",
              "       [False, False, False, False],\n",
              "       [False, False, False, False]])"
            ]
          },
          "metadata": {},
          "execution_count": 1142
        }
      ]
    },
    {
      "cell_type": "code",
      "source": [
        "um=UnaryMethods(arr45,copy_number=3)\n",
        "um.arr2d"
      ],
      "metadata": {
        "colab": {
          "base_uri": "https://localhost:8080/"
        },
        "id": "9o0nOc4XdriH",
        "outputId": "63c06869-4868-4d95-d17a-11980ee3b8f8"
      },
      "execution_count": 1143,
      "outputs": [
        {
          "output_type": "execute_result",
          "data": {
            "text/plain": [
              "array([[-9, -8, -7, -6, -5],\n",
              "       [-4, -3, -2, -1,  0],\n",
              "       [ 1,  2,  3,  4,  5],\n",
              "       [ 6,  7,  8,  9, 10]])"
            ]
          },
          "metadata": {},
          "execution_count": 1143
        }
      ]
    },
    {
      "cell_type": "code",
      "source": [
        "res=um.repeat()\n",
        "res"
      ],
      "metadata": {
        "colab": {
          "base_uri": "https://localhost:8080/"
        },
        "id": "FH1SM_pJeE88",
        "outputId": "773295f7-df04-4d56-fcae-de75bc2000f2"
      },
      "execution_count": 1144,
      "outputs": [
        {
          "output_type": "execute_result",
          "data": {
            "text/plain": [
              "array([[[-9, -8, -7, -6, -5],\n",
              "        [-4, -3, -2, -1,  0],\n",
              "        [ 1,  2,  3,  4,  5],\n",
              "        [ 6,  7,  8,  9, 10]],\n",
              "\n",
              "       [[-9, -8, -7, -6, -5],\n",
              "        [-4, -3, -2, -1,  0],\n",
              "        [ 1,  2,  3,  4,  5],\n",
              "        [ 6,  7,  8,  9, 10]],\n",
              "\n",
              "       [[-9, -8, -7, -6, -5],\n",
              "        [-4, -3, -2, -1,  0],\n",
              "        [ 1,  2,  3,  4,  5],\n",
              "        [ 6,  7,  8,  9, 10]]])"
            ]
          },
          "metadata": {},
          "execution_count": 1144
        }
      ]
    },
    {
      "cell_type": "code",
      "source": [
        "res.shape"
      ],
      "metadata": {
        "colab": {
          "base_uri": "https://localhost:8080/"
        },
        "id": "5jIngNwTebE1",
        "outputId": "e57da387-fb47-46b0-d250-e5d1a40125ab"
      },
      "execution_count": 1145,
      "outputs": [
        {
          "output_type": "execute_result",
          "data": {
            "text/plain": [
              "(3, 4, 5)"
            ]
          },
          "metadata": {},
          "execution_count": 1145
        }
      ]
    }
  ]
}